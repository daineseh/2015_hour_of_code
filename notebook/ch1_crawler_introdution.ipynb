{
 "cells": [
  {
   "cell_type": "markdown",
   "metadata": {},
   "source": [
    "# Crawler"
   ]
  },
  {
   "cell_type": "markdown",
   "metadata": {},
   "source": [
    "## Crawler routine\n",
    "\n",
    "<img src=\"images/http.png\"/>\n",
    "http://www.qa-knowhow.com/?p=792\n",
    "\n",
    "<img src=\"images/html-parser-json.png\"/>\n"
   ]
  },
  {
   "cell_type": "markdown",
   "metadata": {},
   "source": [
    "## HTTP Request Method"
   ]
  },
  {
   "cell_type": "markdown",
   "metadata": {},
   "source": [
    "- GET: Requests data from a specified resource."
   ]
  },
  {
   "cell_type": "raw",
   "metadata": {},
   "source": [
    "http://www.somewhere.com/test/demo_form.html?key1=value1&key2=value2 "
   ]
  },
  {
   "cell_type": "markdown",
   "metadata": {},
   "source": [
    "- POST: Submits data to be processed to a specified resource."
   ]
  },
  {
   "cell_type": "raw",
   "metadata": {},
   "source": [
    "# Note that the query string (name/value pairs) is sent in the HTTP message body of a POST request\n",
    "POST /test/demo_form.html HTTP/1.1\n",
    "Host: www.somewhere.com\n",
    "key1=value1&key2=value2"
   ]
  },
  {
   "cell_type": "markdown",
   "metadata": {},
   "source": [
    "## Python library"
   ]
  },
  {
   "cell_type": "markdown",
   "metadata": {},
   "source": [
    "### requests\n",
    "- Requests is an Apache2 Licensed HTTP library\n",
    "- Python’s builtin urllib2 module provides most of the HTTP capabilities you should need"
   ]
  },
  {
   "cell_type": "markdown",
   "metadata": {},
   "source": [
    "<img src='images/pycon.png'/>"
   ]
  },
  {
   "cell_type": "code",
   "execution_count": 1,
   "metadata": {
    "collapsed": false
   },
   "outputs": [
    {
     "data": {
      "text/plain": [
       "['ConnectionError',\n",
       " 'HTTPError',\n",
       " 'NullHandler',\n",
       " 'PreparedRequest',\n",
       " 'Request',\n",
       " 'RequestException',\n",
       " 'Response',\n",
       " 'Session',\n",
       " 'Timeout',\n",
       " 'TooManyRedirects',\n",
       " 'URLRequired',\n",
       " '__author__',\n",
       " '__build__',\n",
       " '__builtins__',\n",
       " '__copyright__',\n",
       " '__doc__',\n",
       " '__file__',\n",
       " '__license__',\n",
       " '__name__',\n",
       " '__package__',\n",
       " '__path__',\n",
       " '__title__',\n",
       " '__version__',\n",
       " 'adapters',\n",
       " 'api',\n",
       " 'auth',\n",
       " 'certs',\n",
       " 'codes',\n",
       " 'compat',\n",
       " 'cookies',\n",
       " 'delete',\n",
       " 'exceptions',\n",
       " 'get',\n",
       " 'head',\n",
       " 'hooks',\n",
       " 'logging',\n",
       " 'models',\n",
       " 'options',\n",
       " 'packages',\n",
       " 'patch',\n",
       " 'post',\n",
       " 'put',\n",
       " 'request',\n",
       " 'session',\n",
       " 'sessions',\n",
       " 'status_codes',\n",
       " 'structures',\n",
       " 'utils']"
      ]
     },
     "execution_count": 1,
     "metadata": {},
     "output_type": "execute_result"
    }
   ],
   "source": [
    "import requests\n",
    "url = \"https://tw.pycon.org/2016/\"\n",
    "\n",
    "dir(requests)"
   ]
  },
  {
   "cell_type": "code",
   "execution_count": 2,
   "metadata": {
    "collapsed": false
   },
   "outputs": [
    {
     "name": "stdout",
     "output_type": "stream",
     "text": [
      "Help on function get in module requests.api:\n",
      "\n",
      "get(url, params=None, **kwargs)\n",
      "    Sends a GET request.\n",
      "    \n",
      "    :param url: URL for the new :class:`Request` object.\n",
      "    :param params: (optional) Dictionary or bytes to be sent in the query string for the :class:`Request`.\n",
      "    :param \\*\\*kwargs: Optional arguments that ``request`` takes.\n",
      "    :return: :class:`Response <Response>` object\n",
      "    :rtype: requests.Response\n",
      "\n"
     ]
    }
   ],
   "source": [
    "help(requests.get)"
   ]
  },
  {
   "cell_type": "code",
   "execution_count": 3,
   "metadata": {
    "collapsed": false
   },
   "outputs": [
    {
     "data": {
      "text/plain": [
       "<Response [200]>"
      ]
     },
     "execution_count": 3,
     "metadata": {},
     "output_type": "execute_result"
    }
   ],
   "source": [
    "response = requests.get(url)\n",
    "response"
   ]
  },
  {
   "cell_type": "code",
   "execution_count": 4,
   "metadata": {
    "collapsed": false
   },
   "outputs": [
    {
     "data": {
      "text/plain": [
       "['__attrs__',\n",
       " '__bool__',\n",
       " '__class__',\n",
       " '__delattr__',\n",
       " '__dict__',\n",
       " '__doc__',\n",
       " '__format__',\n",
       " '__getattribute__',\n",
       " '__getstate__',\n",
       " '__hash__',\n",
       " '__init__',\n",
       " '__iter__',\n",
       " '__module__',\n",
       " '__new__',\n",
       " '__nonzero__',\n",
       " '__reduce__',\n",
       " '__reduce_ex__',\n",
       " '__repr__',\n",
       " '__setattr__',\n",
       " '__setstate__',\n",
       " '__sizeof__',\n",
       " '__str__',\n",
       " '__subclasshook__',\n",
       " '__weakref__',\n",
       " '_content',\n",
       " '_content_consumed',\n",
       " 'apparent_encoding',\n",
       " 'close',\n",
       " 'connection',\n",
       " 'content',\n",
       " 'cookies',\n",
       " 'elapsed',\n",
       " 'encoding',\n",
       " 'headers',\n",
       " 'history',\n",
       " 'is_permanent_redirect',\n",
       " 'is_redirect',\n",
       " 'iter_content',\n",
       " 'iter_lines',\n",
       " 'json',\n",
       " 'links',\n",
       " 'ok',\n",
       " 'raise_for_status',\n",
       " 'raw',\n",
       " 'reason',\n",
       " 'request',\n",
       " 'status_code',\n",
       " 'text',\n",
       " 'url']"
      ]
     },
     "execution_count": 4,
     "metadata": {},
     "output_type": "execute_result"
    }
   ],
   "source": [
    "dir(response)"
   ]
  },
  {
   "cell_type": "code",
   "execution_count": 5,
   "metadata": {
    "collapsed": false
   },
   "outputs": [
    {
     "data": {
      "text/plain": [
       "200"
      ]
     },
     "execution_count": 5,
     "metadata": {},
     "output_type": "execute_result"
    }
   ],
   "source": [
    "response.status_code"
   ]
  },
  {
   "cell_type": "code",
   "execution_count": 6,
   "metadata": {
    "collapsed": false
   },
   "outputs": [
    {
     "data": {
      "text/plain": [
       "True"
      ]
     },
     "execution_count": 6,
     "metadata": {},
     "output_type": "execute_result"
    }
   ],
   "source": [
    "response.ok"
   ]
  },
  {
   "cell_type": "code",
   "execution_count": 7,
   "metadata": {
    "collapsed": false
   },
   "outputs": [
    {
     "data": {
      "text/plain": [
       "'text/html; charset=utf-8'"
      ]
     },
     "execution_count": 7,
     "metadata": {},
     "output_type": "execute_result"
    }
   ],
   "source": [
    "response.headers['content-type']"
   ]
  },
  {
   "cell_type": "code",
   "execution_count": 8,
   "metadata": {
    "collapsed": false
   },
   "outputs": [
    {
     "data": {
      "text/plain": [
       "u'<!DOCTYPE html>\\n\\n\\n<!--[if lt IE 7]>      <html class=\"no-js lt-ie9 lt-ie8 lt-ie7\"> <![endif]-->\\n<!--[if IE 7]>         <html class=\"no-js lt-ie9 lt-ie8\"> <![endif]-->\\n<!--[if IE 8]>         <html class=\"no-js lt-ie9\"> <![endif]-->\\n<!--[if gt IE 8]><!--> <html class=\"no-js\"> <!--<![endif]-->\\n<head>\\n    <meta charset=\"utf-8\" />\\n    <meta http-equiv=\"X-UA-Compatible\" content=\"IE=edge\" />\\n    <meta name=\"description\" content=\"\" />\\n    <meta name=\"viewport\" content=\"width=device-width, initial-scale=1\" />\\n    <link rel=\"icon\" type=\"image/png\" href=\"/2016/static/images/favicon_pyconTW_32x32.png\">\\n    \\n    \\n\\n    <link rel=\"stylesheet\" href=\"/2016/static/CACHE/css/6a4f8e910730.css\" type=\"text/css\" />\\n    <link href=\\'https://fonts.googleapis.com/css?family=Roboto:300,500\\' rel=\\'stylesheet\\' type=\\'text/css\\'>\\n    <link href=\\'https://fonts.googleapis.com/earlyaccess/cwtexhei.css\\' rel=\\'stylesheet\\' type=\\'text/css\\'>\\n    <link rel=\"stylesheet\" href=\"https://maxcdn.bootstrapcdn.com/font-awesome/4.4.0/css/font-awesome.min.css\">\\n    \\n    <!--[if lt IE 9]>\\n    <script src=\"/2016/static/js/html5shiv.min.js\"></script>\\n    <script src=\"/2016/static/js/respond.min.js\"></script>\\n    <![endif]-->\\n    <title>PyCon Taiwan 2016</title>\\n</head>\\n<body class=\"\">\\n\\n    \\n<nav class=\"top-nav container-fluid clearfix\">\\n    <a href=\"/2016/\">\\n        <img src=\"/2016/static/images/logo-tiny--reverse.png\" class=\"logo hidden-xs\" alt=\"logo\">\\n    </a>\\n    <div class=\"social pull-right\">\\n        <a href=\"https://www.facebook.com/pycontw\" class=\"social-btn\" target=\"_blank\">\\n            <i class=\"fa fa-facebook fa-lg\"></i>\\n        </a>\\n        <a href=\"https://twitter.com/pycontw\" class=\"social-btn\" target=\"_blank\">\\n            <i class=\"fa fa-twitter fa-lg\"></i>\\n        </a>\\n    </div>\\n</nav>\\n<div class=\"section header\">\\n    <div class=\"container\">\\n        <div class=\"row\">\\n            <h1 class=\"logo text-center col-sm-8 col-sm-offset-2 col-xs-10 col-xs-offset-1\">\\n                <img class=\"img-responsive\" src=\"/2016/static/images/logo.png\" alt=\"PYCON Taiwan 2016\">\\n            </h1>\\n            <div class=\"slogan col-xs-12\">\\n                <p>Implement the Future, Together !</p>\\n            </div>\\n        </div>\\n        <div class=\"row\">\\n            <div class=\"schedule-wrapper\">\\n                <div class=\"row\">\\n                    <div class=\"h3 schedule__title--lg\">Tutorials</div>\\n                    <div class=\"h3 schedule__title--lg\">Conference</div>\\n                    <div class=\"h3 schedule__title--lg\">Sprint</div>\\n                </div>\\n                <div class=\"row schedule\">\\n                    <div class=\"schedule-block\">\\n                        <h3 class=\"schedule__title\">Tutorials</h3>\\n                        <p>TBD</p>\\n                    </div>\\n                    <div class=\"schedule-block\">\\n                        <h3 class=\"schedule__title\">Conference</h3>\\n                        <p>June 3-5, 2016</p>\\n                    </div>\\n                    <div class=\"schedule-block\">\\n                        <h3 class=\"schedule__title\">Sprint</h3>\\n                        <p>TBD</p>\\n                    </div>\\n                </div>\\n            </div>\\n        </div>\\n        \\n    </div>\\n</div>\\n<div class=\"section intro\">\\n    <div class=\"container\">\\n        <p class=\"quote\">&quot;Simple is better than complex.    Complex is better than complicated.&quot;</p>\\n        <div class=\"row\">\\n            <section class=\"intro__pycon col-md-8\">\\n                <h2 class=\"intro__heading\">What is PyCon</h2>\\n                <div class=\"intro__body\">\\n                The original PyCon was formed in North America in 2003, and now there are many other conferences being run in the PyCon spirit around the world.\\n                </div>\\n            </section>\\n        </div>\\n        <div class=\"row\">\\n            <section class=\"intro__pycontw\">\\n                <h2 class=\"intro__heading\">And what is PyCon Taiwan</h2>\\n                <div class=\"intro__body\">\\n                PyCon Taiwan is an annual convention in Taiwan for the discussion and promotion of the Python programming language. It is held by enthusiasts and focuses on Python technology and its versatile applications. We welcome people who are interested in Python to join PyCon Taiwan to share knowledge, exchange ideas, make connections and to help us grow our network.\\n                </div>\\n            </section>\\n            <section class=\"intro__volunteer\">\\n                <div class=\"volunteer\">\\n                    <h2 class=\"volunteer__heading h4\">Volunteers Needed!</h2>\\n                    <div class=\"volunteer__body\">\\n                        <p>Help us organize and make the conference successful!</p>\\n                        <p>\\n                            Please fill out<br>\\n                            <a href=\"https://docs.google.com/forms/d/1JoHhAj6NeXg98OFAAvAHQ6Dcrh9Dxp2PttHKwxNbiFs/viewform\" target=\"_blank\">our volunteer form</a>\\n                        </p>\\n                    </div>\\n                </div>\\n            </section>\\n        </div>\\n    </div>\\n</div>\\n\\n\\n\\n<div class=\"section\">\\n    <div class=\"container\">\\n        <div class=\"row\">\\n            <div class=\"col-xs-12\">\\n                <div class=\"community\">\\n                    <h2 class=\"section__heading\">Python Community in Taiwan</h2>\\n                    <ul class=\"community__list row\">\\n                        <li><a href=\"http://www.meetup.com/Taipei-py/\" target=\"_blank\"><div class=\"pull-left\">Taipei.py\\xa0-\\xa0</div><div>Taipei\\xa0Python\\xa0User\\xa0Group</div></a></li>\\n                        <li><a href=\"http://www.meetup.com/pythonhug/\" target=\"_blank\"><div class=\"pull-left\">PyHUG\\xa0-\\xa0</div><div>Python\\xa0Hsinchu\\xa0User\\xa0Group</div></a></li>\\n                        <li><a href=\"http://www.meetup.com/PyLadiesTW/\" target=\"_blank\">PyLadies\\xa0Taiwan</a></li>\\n                        <li><a href=\"http://www.meetup.com/Tainan-py-Python-Tainan-User-Group/\" target=\"_blank\"><div class=\"pull-left\">Tainan.py\\xa0-\\xa0</div><div>Python\\xa0Tainan\\xa0User\\xa0Group</div></a></li>\\n                        <li><a href=\"http://www.meetup.com/Kaohsiung-Python-Meetup\" target=\"_blank\"><div class=\"pull-left\">Kaohsiung.py\\xa0-\\xa0</div><div>Kaohsiung\\xa0Python\\xa0User\\xa0Group</div></a></li>\\n                        <li><a href=\"http://www.meetup.com/Taichung-Python-Meetup/\" target=\"_blank\"><div class=\"pull-left\">Taichung.py\\xa0-\\xa0</div><div>Taichung\\xa0Python\\xa0User\\xa0Group</div></a></li>\\n                        <li><a href=\"http://djangogirls.org/taipei\" target=\"_blank\">Django\\xa0Girls\\xa0Taipei</a></li>\\n                        <li><a href=\"http://www.meetup.com/Hualien-Py/\" target=\"_blank\"><div class=\"pull-left\">Hualien.py\\xa0-\\xa0</div><div>Hualien\\xa0Python\\xa0User\\xa0Group</div></a></li>\\n                    </ul>\\n                </div>\\n            </div>\\n        </div>\\n    </div>\\n</div>\\n\\n\\n\\n<div class=\"section sponsorship\">\\n    <div class=\"container\">\\n        <div class=\"row\">\\n            <div class=\"sponsorship__call col-sm-6 col-sm-offset-3\">Call for Sponsors!</div>\\n        </div>\\n        <div class=\"row\">\\n            <div class=\"col-md-8 col-md-offset-2\">\\n                <p>\\n                Sponsoring PyCon Taiwan 2016 will connect your brand with estimated total 800 Python enthusiastic users and developers in Taiwan, 9 out of 10 are professionals. It\\u2019s a great opportunity to find talents and promote your products here.</p>\\n                <p>Contact us at <a href=\"mailto:sponsorship@pycon.tw\">sponsorship@pycon.tw</a> for sponsorship details.\\n                </p>\\n                <br>\\n                <p>See also <a href=\"https://tw.pycon.org/2015apac/en/sponsors/\" target=\"_blank\"> Sponsors of PyCon APAC 2015</a></p>\\n            </div>\\n        </div>\\n    </div>\\n</div>\\n\\n\\n\\n<div class=\"section conf\">\\n    <div class=\"block container\">\\n        <p class=\"quote\">&quot;Beautiful is better than ugly.     Explicit is better than implicit. &quot;</p>\\n        \\n    </div>\\n</div>\\n\\n\\n\\n<div class=\"section sponsors\">\\n    <div class=\"container\">\\n        <div class=\"row\">\\n            <div class=\"col-xs-12\">\\n                <h2 class=\"section__heading\">Sponsors</h2>\\n                <div class=\"row\">\\n                    <div class=\"sponsors__logo col-sm-12\">\\n                        <a href=\"http://aktsk.com.tw/\" target=\"_blank\"><img class=\"img-responsive\" src=\"/2016/static/images/sponsors/akatsuki.png\" alt=\"akatsuki\" style=\"max-height:100px;\"></a>\\n                    </div>\\n                </div>\\n                <div class=\"row\">\\n                    <div class=\"sponsors__logo col-sm-4\">\\n                        <a href=\"http://ocf.tw\" target=\"_blank\"><img class=\"img-responsive\" src=\"/2016/static/images/sponsors/openculture.png\" alt=\"openculture\" style=\"max-height:50px;\"></a>\\n                    </div>\\n                    <div class=\"sponsors__logo col-sm-4\">\\n                        <a href=\"http://www.wolftea.com\" target=\"_blank\"><img class=\"img-responsive\" src=\"/2016/static/images/sponsors/wolftea.png\" alt=\"wolftea\" style=\"max-height:100px; margin-top:10px;\"></a>\\n                    </div>\\n                    <div class=\"sponsors__logo col-sm-4\">\\n                        <a href=\"http://www.gliacloud.com\" target=\"_blank\"><img class=\"img-responsive\" src=\"/2016/static/images/sponsors/gliacloud.png\" alt=\"gliacloud\" style=\"max-height:50px;\"></a>\\n                    </div>\\n                </div>\\n            </div>\\n        </div>\\n    </div>\\n</div>\\n\\n\\n<footer class=\"footer container-fluid text-center\">\\n    <div class=\"row clearfix\">\\n        <div class=\"col-md-2\">2016 PyCon Taiwan</div>\\n        <div class=\"col-md-8 hidden-xs hidden-sm\">\\n            <img src=\"/2016/static/images/logo-tiny.png\" class=\"logo\">\\n        </div>\\n        <div class=\"social col-md-2 text-center\">\\n            <a href=\"https://www.facebook.com/pycontw\" class=\"social-btn\" target=\"_blank\">\\n                <i class=\"fa fa-facebook fa-lg\"></i>\\n            </a>\\n            <a href=\"https://twitter.com/pycontw\" class=\"social-btn\" target=\"_blank\">\\n                <i class=\"fa fa-twitter fa-lg\"></i>\\n            </a>\\n        </div>\\n    </div>\\n</footer>\\n\\n\\n\\n\\n\\n    <script type=\"text/javascript\" src=\"/2016/static/CACHE/js/8576dbc32f81.js\"></script>\\n    \\n\\n</body>\\n</html>'"
      ]
     },
     "execution_count": 8,
     "metadata": {},
     "output_type": "execute_result"
    }
   ],
   "source": [
    "response.text #return unicode"
   ]
  },
  {
   "cell_type": "markdown",
   "metadata": {},
   "source": [
    "### beautifulsoup4\n",
    "\n",
    "- A Python library for pulling data out of HTML and XML files. It works with your favorite parser to provide idiomatic ways of navigating, searching, and modifying the parse tree. It commonly saves programmers hours or days of work."
   ]
  },
  {
   "cell_type": "code",
   "execution_count": 9,
   "metadata": {
    "collapsed": true
   },
   "outputs": [],
   "source": [
    "from bs4 import BeautifulSoup\n",
    "\n",
    "soup = BeautifulSoup(response.text, 'html.parser')"
   ]
  },
  {
   "cell_type": "code",
   "execution_count": 10,
   "metadata": {
    "collapsed": false
   },
   "outputs": [
    {
     "data": {
      "text/plain": [
       "bs4.BeautifulSoup"
      ]
     },
     "execution_count": 10,
     "metadata": {},
     "output_type": "execute_result"
    }
   ],
   "source": [
    "type(soup)"
   ]
  },
  {
   "cell_type": "code",
   "execution_count": 11,
   "metadata": {
    "collapsed": false
   },
   "outputs": [
    {
     "data": {
      "text/plain": [
       "['ASCII_SPACES',\n",
       " 'DEFAULT_BUILDER_FEATURES',\n",
       " 'HTML_FORMATTERS',\n",
       " 'NO_PARSER_SPECIFIED_WARNING',\n",
       " 'ROOT_TAG_NAME',\n",
       " 'XML_FORMATTERS',\n",
       " '__call__',\n",
       " '__class__',\n",
       " '__contains__',\n",
       " '__copy__',\n",
       " '__delattr__',\n",
       " '__delitem__',\n",
       " '__dict__',\n",
       " '__doc__',\n",
       " '__eq__',\n",
       " '__format__',\n",
       " '__getattr__',\n",
       " '__getattribute__',\n",
       " '__getitem__',\n",
       " '__getstate__',\n",
       " '__hash__',\n",
       " '__init__',\n",
       " '__iter__',\n",
       " '__len__',\n",
       " '__module__',\n",
       " '__ne__',\n",
       " '__new__',\n",
       " '__nonzero__',\n",
       " '__reduce__',\n",
       " '__reduce_ex__',\n",
       " '__repr__',\n",
       " '__setattr__',\n",
       " '__setitem__',\n",
       " '__sizeof__',\n",
       " '__str__',\n",
       " '__subclasshook__',\n",
       " '__unicode__',\n",
       " '__weakref__',\n",
       " '_all_strings',\n",
       " '_attr_value_as_string',\n",
       " '_attribute_checker',\n",
       " '_feed',\n",
       " '_find_all',\n",
       " '_find_one',\n",
       " '_formatter_for_name',\n",
       " '_is_xml',\n",
       " '_lastRecursiveChild',\n",
       " '_last_descendant',\n",
       " '_most_recent_element',\n",
       " '_popToTag',\n",
       " '_select_debug',\n",
       " '_selector_combinators',\n",
       " '_should_pretty_print',\n",
       " '_tag_name_matches_and',\n",
       " 'append',\n",
       " 'attribselect_re',\n",
       " 'attrs',\n",
       " 'builder',\n",
       " 'can_be_empty_element',\n",
       " 'childGenerator',\n",
       " 'children',\n",
       " 'clear',\n",
       " 'contains_replacement_characters',\n",
       " 'contents',\n",
       " 'currentTag',\n",
       " 'current_data',\n",
       " 'declared_html_encoding',\n",
       " 'decode',\n",
       " 'decode_contents',\n",
       " 'decompose',\n",
       " 'descendants',\n",
       " 'encode',\n",
       " 'encode_contents',\n",
       " 'endData',\n",
       " 'extract',\n",
       " 'fetchNextSiblings',\n",
       " 'fetchParents',\n",
       " 'fetchPrevious',\n",
       " 'fetchPreviousSiblings',\n",
       " 'find',\n",
       " 'findAll',\n",
       " 'findAllNext',\n",
       " 'findAllPrevious',\n",
       " 'findChild',\n",
       " 'findChildren',\n",
       " 'findNext',\n",
       " 'findNextSibling',\n",
       " 'findNextSiblings',\n",
       " 'findParent',\n",
       " 'findParents',\n",
       " 'findPrevious',\n",
       " 'findPreviousSibling',\n",
       " 'findPreviousSiblings',\n",
       " 'find_all',\n",
       " 'find_all_next',\n",
       " 'find_all_previous',\n",
       " 'find_next',\n",
       " 'find_next_sibling',\n",
       " 'find_next_siblings',\n",
       " 'find_parent',\n",
       " 'find_parents',\n",
       " 'find_previous',\n",
       " 'find_previous_sibling',\n",
       " 'find_previous_siblings',\n",
       " 'format_string',\n",
       " 'get',\n",
       " 'getText',\n",
       " 'get_text',\n",
       " 'handle_data',\n",
       " 'handle_endtag',\n",
       " 'handle_starttag',\n",
       " 'has_attr',\n",
       " 'has_key',\n",
       " 'hidden',\n",
       " 'index',\n",
       " 'insert',\n",
       " 'insert_after',\n",
       " 'insert_before',\n",
       " 'isSelfClosing',\n",
       " 'is_empty_element',\n",
       " 'is_xml',\n",
       " 'markup',\n",
       " 'name',\n",
       " 'namespace',\n",
       " 'new_string',\n",
       " 'new_tag',\n",
       " 'next',\n",
       " 'nextGenerator',\n",
       " 'nextSibling',\n",
       " 'nextSiblingGenerator',\n",
       " 'next_element',\n",
       " 'next_elements',\n",
       " 'next_sibling',\n",
       " 'next_siblings',\n",
       " 'object_was_parsed',\n",
       " 'original_encoding',\n",
       " 'parent',\n",
       " 'parentGenerator',\n",
       " 'parents',\n",
       " 'parse_only',\n",
       " 'parserClass',\n",
       " 'parser_class',\n",
       " 'popTag',\n",
       " 'prefix',\n",
       " 'preserve_whitespace_tag_stack',\n",
       " 'prettify',\n",
       " 'previous',\n",
       " 'previousGenerator',\n",
       " 'previousSibling',\n",
       " 'previousSiblingGenerator',\n",
       " 'previous_element',\n",
       " 'previous_elements',\n",
       " 'previous_sibling',\n",
       " 'previous_siblings',\n",
       " 'pushTag',\n",
       " 'recursiveChildGenerator',\n",
       " 'renderContents',\n",
       " 'replaceWith',\n",
       " 'replaceWithChildren',\n",
       " 'replace_with',\n",
       " 'replace_with_children',\n",
       " 'reset',\n",
       " 'select',\n",
       " 'select_one',\n",
       " 'setup',\n",
       " 'string',\n",
       " 'strings',\n",
       " 'stripped_strings',\n",
       " 'tagStack',\n",
       " 'tag_name_re',\n",
       " 'text',\n",
       " 'unwrap',\n",
       " 'wrap']"
      ]
     },
     "execution_count": 11,
     "metadata": {},
     "output_type": "execute_result"
    }
   ],
   "source": [
    "dir(soup)"
   ]
  },
  {
   "cell_type": "code",
   "execution_count": 12,
   "metadata": {
    "collapsed": false
   },
   "outputs": [
    {
     "data": {
      "text/plain": [
       "<title>PyCon Taiwan 2016</title>"
      ]
     },
     "execution_count": 12,
     "metadata": {},
     "output_type": "execute_result"
    }
   ],
   "source": [
    "soup.title"
   ]
  },
  {
   "cell_type": "code",
   "execution_count": 13,
   "metadata": {
    "collapsed": false
   },
   "outputs": [
    {
     "data": {
      "text/plain": [
       "u'title'"
      ]
     },
     "execution_count": 13,
     "metadata": {},
     "output_type": "execute_result"
    }
   ],
   "source": [
    "soup.title.name"
   ]
  },
  {
   "cell_type": "code",
   "execution_count": 14,
   "metadata": {
    "collapsed": false
   },
   "outputs": [
    {
     "data": {
      "text/plain": [
       "u'PyCon Taiwan 2016'"
      ]
     },
     "execution_count": 14,
     "metadata": {},
     "output_type": "execute_result"
    }
   ],
   "source": [
    "soup.title.string"
   ]
  },
  {
   "cell_type": "code",
   "execution_count": 15,
   "metadata": {
    "collapsed": false
   },
   "outputs": [
    {
     "data": {
      "text/plain": [
       "[<a href=\"/2016/\">\\n<img alt=\"logo\" class=\"logo hidden-xs\" src=\"/2016/static/images/logo-tiny--reverse.png\">\\n</img></a>,\n",
       " <a class=\"social-btn\" href=\"https://www.facebook.com/pycontw\" target=\"_blank\">\\n<i class=\"fa fa-facebook fa-lg\"></i>\\n</a>,\n",
       " <a class=\"social-btn\" href=\"https://twitter.com/pycontw\" target=\"_blank\">\\n<i class=\"fa fa-twitter fa-lg\"></i>\\n</a>,\n",
       " <a href=\"https://docs.google.com/forms/d/1JoHhAj6NeXg98OFAAvAHQ6Dcrh9Dxp2PttHKwxNbiFs/viewform\" target=\"_blank\">our volunteer form</a>,\n",
       " <a href=\"http://www.meetup.com/Taipei-py/\" target=\"_blank\"><div class=\"pull-left\">Taipei.py\\xa0-\\xa0</div><div>Taipei\\xa0Python\\xa0User\\xa0Group</div></a>,\n",
       " <a href=\"http://www.meetup.com/pythonhug/\" target=\"_blank\"><div class=\"pull-left\">PyHUG\\xa0-\\xa0</div><div>Python\\xa0Hsinchu\\xa0User\\xa0Group</div></a>,\n",
       " <a href=\"http://www.meetup.com/PyLadiesTW/\" target=\"_blank\">PyLadies\\xa0Taiwan</a>,\n",
       " <a href=\"http://www.meetup.com/Tainan-py-Python-Tainan-User-Group/\" target=\"_blank\"><div class=\"pull-left\">Tainan.py\\xa0-\\xa0</div><div>Python\\xa0Tainan\\xa0User\\xa0Group</div></a>,\n",
       " <a href=\"http://www.meetup.com/Kaohsiung-Python-Meetup\" target=\"_blank\"><div class=\"pull-left\">Kaohsiung.py\\xa0-\\xa0</div><div>Kaohsiung\\xa0Python\\xa0User\\xa0Group</div></a>,\n",
       " <a href=\"http://www.meetup.com/Taichung-Python-Meetup/\" target=\"_blank\"><div class=\"pull-left\">Taichung.py\\xa0-\\xa0</div><div>Taichung\\xa0Python\\xa0User\\xa0Group</div></a>,\n",
       " <a href=\"http://djangogirls.org/taipei\" target=\"_blank\">Django\\xa0Girls\\xa0Taipei</a>,\n",
       " <a href=\"http://www.meetup.com/Hualien-Py/\" target=\"_blank\"><div class=\"pull-left\">Hualien.py\\xa0-\\xa0</div><div>Hualien\\xa0Python\\xa0User\\xa0Group</div></a>,\n",
       " <a href=\"mailto:sponsorship@pycon.tw\">sponsorship@pycon.tw</a>,\n",
       " <a href=\"https://tw.pycon.org/2015apac/en/sponsors/\" target=\"_blank\"> Sponsors of PyCon APAC 2015</a>,\n",
       " <a href=\"http://aktsk.com.tw/\" target=\"_blank\"><img alt=\"akatsuki\" class=\"img-responsive\" src=\"/2016/static/images/sponsors/akatsuki.png\" style=\"max-height:100px;\"/></a>,\n",
       " <a href=\"http://ocf.tw\" target=\"_blank\"><img alt=\"openculture\" class=\"img-responsive\" src=\"/2016/static/images/sponsors/openculture.png\" style=\"max-height:50px;\"/></a>,\n",
       " <a href=\"http://www.wolftea.com\" target=\"_blank\"><img alt=\"wolftea\" class=\"img-responsive\" src=\"/2016/static/images/sponsors/wolftea.png\" style=\"max-height:100px; margin-top:10px;\"/></a>,\n",
       " <a href=\"http://www.gliacloud.com\" target=\"_blank\"><img alt=\"gliacloud\" class=\"img-responsive\" src=\"/2016/static/images/sponsors/gliacloud.png\" style=\"max-height:50px;\"/></a>,\n",
       " <a class=\"social-btn\" href=\"https://www.facebook.com/pycontw\" target=\"_blank\">\\n<i class=\"fa fa-facebook fa-lg\"></i>\\n</a>,\n",
       " <a class=\"social-btn\" href=\"https://twitter.com/pycontw\" target=\"_blank\">\\n<i class=\"fa fa-twitter fa-lg\"></i>\\n</a>]"
      ]
     },
     "execution_count": 15,
     "metadata": {},
     "output_type": "execute_result"
    }
   ],
   "source": [
    "soup.find_all('a')"
   ]
  },
  {
   "cell_type": "code",
   "execution_count": 16,
   "metadata": {
    "collapsed": false
   },
   "outputs": [
    {
     "name": "stdout",
     "output_type": "stream",
     "text": [
      "/2016/\n",
      "https://www.facebook.com/pycontw\n",
      "https://twitter.com/pycontw\n",
      "https://docs.google.com/forms/d/1JoHhAj6NeXg98OFAAvAHQ6Dcrh9Dxp2PttHKwxNbiFs/viewform\n",
      "http://www.meetup.com/Taipei-py/\n",
      "http://www.meetup.com/pythonhug/\n",
      "http://www.meetup.com/PyLadiesTW/\n",
      "http://www.meetup.com/Tainan-py-Python-Tainan-User-Group/\n",
      "http://www.meetup.com/Kaohsiung-Python-Meetup\n",
      "http://www.meetup.com/Taichung-Python-Meetup/\n",
      "http://djangogirls.org/taipei\n",
      "http://www.meetup.com/Hualien-Py/\n",
      "mailto:sponsorship@pycon.tw\n",
      "https://tw.pycon.org/2015apac/en/sponsors/\n",
      "http://aktsk.com.tw/\n",
      "http://ocf.tw\n",
      "http://www.wolftea.com\n",
      "http://www.gliacloud.com\n",
      "https://www.facebook.com/pycontw\n",
      "https://twitter.com/pycontw\n"
     ]
    }
   ],
   "source": [
    "for link in soup.find_all('a'):\n",
    "    print(link.get('href'))"
   ]
  },
  {
   "cell_type": "code",
   "execution_count": 17,
   "metadata": {
    "collapsed": false
   },
   "outputs": [
    {
     "data": {
      "text/plain": [
       "u'\\n\\n\\n\\n  \\n\\n\\n\\n\\n\\n\\n\\n\\n\\n\\n\\nPyCon Taiwan 2016\\n\\n\\n\\n\\n\\n\\n\\n\\n\\n\\n\\n\\n\\n\\n\\n\\n\\n\\n\\n\\n\\n\\nImplement the Future, Together !\\n\\n\\n\\n\\n\\nTutorials\\nConference\\nSprint\\n\\n\\n\\nTutorials\\nTBD\\n\\n\\nConference\\nJune 3-5, 2016\\n\\n\\nSprint\\nTBD\\n\\n\\n\\n\\n\\n\\n\\n\\n\"Simple is better than complex.    Complex is better than complicated.\"\\n\\n\\nWhat is PyCon\\n\\n                The original PyCon was formed in North America in 2003, and now there are many other conferences being run in the PyCon spirit around the world.\\n                \\n\\n\\n\\n\\nAnd what is PyCon Taiwan\\n\\n                PyCon Taiwan is an annual convention in Taiwan for the discussion and promotion of the Python programming language. It is held by enthusiasts and focuses on Python technology and its versatile applications. We welcome people who are interested in Python to join PyCon Taiwan to share knowledge, exchange ideas, make connections and to help us grow our network.\\n                \\n\\n\\n\\nVolunteers Needed!\\n\\nHelp us organize and make the conference successful!\\n\\n                            Please fill out\\nour volunteer form\\n\\n\\n\\n\\n\\n\\n\\n\\n\\n\\n\\n\\nPython Community in Taiwan\\n\\nTaipei.py\\xa0-\\xa0Taipei\\xa0Python\\xa0User\\xa0Group\\nPyHUG\\xa0-\\xa0Python\\xa0Hsinchu\\xa0User\\xa0Group\\nPyLadies\\xa0Taiwan\\nTainan.py\\xa0-\\xa0Python\\xa0Tainan\\xa0User\\xa0Group\\nKaohsiung.py\\xa0-\\xa0Kaohsiung\\xa0Python\\xa0User\\xa0Group\\nTaichung.py\\xa0-\\xa0Taichung\\xa0Python\\xa0User\\xa0Group\\nDjango\\xa0Girls\\xa0Taipei\\nHualien.py\\xa0-\\xa0Hualien\\xa0Python\\xa0User\\xa0Group\\n\\n\\n\\n\\n\\n\\n\\n\\n\\nCall for Sponsors!\\n\\n\\n\\n\\n                Sponsoring PyCon Taiwan 2016 will connect your brand with estimated total 800 Python enthusiastic users and developers in Taiwan, 9 out of 10 are professionals. It\\u2019s a great opportunity to find talents and promote your products here.\\nContact us at sponsorship@pycon.tw for sponsorship details.\\n                \\n\\nSee also  Sponsors of PyCon APAC 2015\\n\\n\\n\\n\\n\\n\\n\"Beautiful is better than ugly.     Explicit is better than implicit. \"\\n\\n\\n\\n\\n\\n\\nSponsors\\n\\n\\n\\n\\n\\n\\n\\n\\n\\n\\n\\n\\n\\n\\n\\n\\n\\n\\n\\n\\n\\n\\n2016 PyCon Taiwan\\n\\n\\n\\n\\n\\n\\n\\n\\n\\n\\n\\n\\n\\n\\n\\n'"
      ]
     },
     "execution_count": 17,
     "metadata": {},
     "output_type": "execute_result"
    }
   ],
   "source": [
    "soup.get_text()"
   ]
  },
  {
   "cell_type": "code",
   "execution_count": null,
   "metadata": {
    "collapsed": true
   },
   "outputs": [],
   "source": []
  }
 ],
 "metadata": {
  "kernelspec": {
   "display_name": "Python 2",
   "language": "python",
   "name": "python2"
  },
  "language_info": {
   "codemirror_mode": {
    "name": "ipython",
    "version": 2
   },
   "file_extension": ".py",
   "mimetype": "text/x-python",
   "name": "python",
   "nbconvert_exporter": "python",
   "pygments_lexer": "ipython2",
   "version": "2.7.10"
  }
 },
 "nbformat": 4,
 "nbformat_minor": 0
}
