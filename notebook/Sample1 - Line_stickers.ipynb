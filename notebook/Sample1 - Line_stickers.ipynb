{
 "cells": [
  {
   "cell_type": "markdown",
   "metadata": {},
   "source": [
    "# Sample1 - Line Sticker"
   ]
  },
  {
   "cell_type": "code",
   "execution_count": null,
   "metadata": {
    "collapsed": true
   },
   "outputs": [],
   "source": [
    "from bs4 import BeautifulSoup\n",
    "import requests"
   ]
  },
  {
   "cell_type": "code",
   "execution_count": null,
   "metadata": {
    "collapsed": true
   },
   "outputs": [],
   "source": [
    "url = 'https://store.line.me/stickershop/product/5511/zh-Hant'\n",
    "response = requests.get(url)\n",
    "soup = BeautifulSoup(response.text, 'html.parser')"
   ]
  },
  {
   "cell_type": "code",
   "execution_count": null,
   "metadata": {
    "collapsed": false
   },
   "outputs": [],
   "source": [
    "stickers = []\n",
    "\n",
    "for tag in soup.find_all('span'):\n",
    "    if u'style' not in tag.attrs:\n",
    "        continue\n",
    "    print tag\n",
    "    break"
   ]
  },
  {
   "cell_type": "code",
   "execution_count": null,
   "metadata": {
    "collapsed": false
   },
   "outputs": [],
   "source": [
    "type(tag)"
   ]
  },
  {
   "cell_type": "code",
   "execution_count": null,
   "metadata": {
    "collapsed": false
   },
   "outputs": [],
   "source": [
    "dir(tag)"
   ]
  },
  {
   "cell_type": "code",
   "execution_count": null,
   "metadata": {
    "collapsed": false
   },
   "outputs": [],
   "source": [
    "stickers = []\n",
    "\n",
    "for tag in soup.find_all('span'):\n",
    "    if u'style' not in tag.attrs:\n",
    "        continue\n",
    "    print tag.get('style')\n",
    "    break"
   ]
  },
  {
   "cell_type": "code",
   "execution_count": null,
   "metadata": {
    "collapsed": false
   },
   "outputs": [],
   "source": [
    "stickers = []\n",
    "\n",
    "for tag in soup.find_all('span'):\n",
    "    if u'style' not in tag.attrs:\n",
    "        continue\n",
    "    style = tag.get('style')\n",
    "    l_parentheses = style.rfind('(') + 1\n",
    "    r_parentheses = style.rfind(')')\n",
    "    path = style[l_parentheses:r_parentheses]\n",
    "    print path"
   ]
  },
  {
   "cell_type": "markdown",
   "metadata": {},
   "source": [
    "## Result:"
   ]
  },
  {
   "cell_type": "code",
   "execution_count": null,
   "metadata": {
    "collapsed": false
   },
   "outputs": [],
   "source": [
    "ls images/line_pic"
   ]
  },
  {
   "cell_type": "markdown",
   "metadata": {},
   "source": [
    "<img src='images/line_pic/8693394.png'/>\n",
    "https://sdl-stickershop.line.naver.jp/products/0/0/1/5511/android/stickers/8693394.png\n",
    "\n",
    "\n",
    "<img src='images/line_pic/8693395.png'/>\n",
    "https://sdl-stickershop.line.naver.jp/products/0/0/1/5511/android/stickers/8693395.png\n",
    "\n",
    "\n",
    "<img src='images/line_pic/8693396.png'/>\n",
    "https://sdl-stickershop.line.naver.jp/products/0/0/1/5511/android/stickers/8693396.png\n",
    "\n",
    "\n",
    "<img src='images/line_pic/8693397.png'/>\n",
    "https://sdl-stickershop.line.naver.jp/products/0/0/1/5511/android/stickers/8693397.png\n",
    "\n",
    "\n",
    "<img src='images/line_pic/8693398.png'/>\n",
    "https://sdl-stickershop.line.naver.jp/products/0/0/1/5511/android/stickers/8693398.png\n",
    "\n",
    "\n",
    "<img src='images/line_pic/8693399.png'/>\n",
    "https://sdl-stickershop.line.naver.jp/products/0/0/1/5511/android/stickers/8693399.png\n",
    "\n",
    "\n",
    "<img src='images/line_pic/8693400.png'/>\n",
    "https://sdl-stickershop.line.naver.jp/products/0/0/1/5511/android/stickers/8693400.png\n",
    "\n",
    "\n",
    "<img src='images/line_pic/8693401.png'/>\n",
    "https://sdl-stickershop.line.naver.jp/products/0/0/1/5511/android/stickers/8693401.png\n",
    "\n",
    "\n",
    "<img src='images/line_pic/8693402.png'/>\n",
    "https://sdl-stickershop.line.naver.jp/products/0/0/1/5511/android/stickers/8693402.png\n",
    "\n",
    "\n",
    "<img src='images/line_pic/8693403.png'/>\n",
    "https://sdl-stickershop.line.naver.jp/products/0/0/1/5511/android/stickers/8693403.png\n",
    "\n",
    "\n",
    "<img src='images/line_pic/8693404.png'/>\n",
    "https://sdl-stickershop.line.naver.jp/products/0/0/1/5511/android/stickers/8693404.png\n",
    "\n",
    "\n",
    "<img src='images/line_pic/8693405.png'/>\n",
    "https://sdl-stickershop.line.naver.jp/products/0/0/1/5511/android/stickers/8693405.png\n",
    "\n",
    "\n",
    "<img src='images/line_pic/8693406.png'/>\n",
    "https://sdl-stickershop.line.naver.jp/products/0/0/1/5511/android/stickers/8693406.png\n",
    "\n",
    "\n",
    "<img src='images/line_pic/8693407.png'/>\n",
    "https://sdl-stickershop.line.naver.jp/products/0/0/1/5511/android/stickers/8693407.png\n",
    "\n",
    "\n",
    "<img src='images/line_pic/8693408.png'/>\n",
    "https://sdl-stickershop.line.naver.jp/products/0/0/1/5511/android/stickers/8693408.png\n",
    "\n",
    "\n",
    "<img src='images/line_pic/8693409.png'/>\n",
    "https://sdl-stickershop.line.naver.jp/products/0/0/1/5511/android/stickers/8693409.png\n",
    "\n",
    "\n",
    "<img src='images/line_pic/8693410.png'/>\n",
    "https://sdl-stickershop.line.naver.jp/products/0/0/1/5511/android/stickers/8693410.png\n",
    "\n",
    "\n",
    "<img src='images/line_pic/8693411.png'/>\n",
    "https://sdl-stickershop.line.naver.jp/products/0/0/1/5511/android/stickers/8693411.png\n",
    "\n",
    "\n",
    "<img src='images/line_pic/8693412.png'/>\n",
    "https://sdl-stickershop.line.naver.jp/products/0/0/1/5511/android/stickers/8693412.png\n",
    "\n",
    "\n",
    "<img src='images/line_pic/8693413.png'/>\n",
    "https://sdl-stickershop.line.naver.jp/products/0/0/1/5511/android/stickers/8693413.png\n",
    "\n",
    "\n",
    "<img src='images/line_pic/8693414.png'/>\n",
    "https://sdl-stickershop.line.naver.jp/products/0/0/1/5511/android/stickers/8693414.png\n",
    "\n",
    "\n",
    "<img src='images/line_pic/8693415.png'/>\n",
    "https://sdl-stickershop.line.naver.jp/products/0/0/1/5511/android/stickers/8693415.png\n",
    "\n",
    "\n",
    "<img src='images/line_pic/8693416.png'/>\n",
    "https://sdl-stickershop.line.naver.jp/products/0/0/1/5511/android/stickers/8693416.png\n",
    "\n",
    "\n",
    "<img src='images/line_pic/8693417.png'/>\n",
    "https://sdl-stickershop.line.naver.jp/products/0/0/1/5511/android/stickers/8693417.png"
   ]
  },
  {
   "cell_type": "code",
   "execution_count": null,
   "metadata": {
    "collapsed": true
   },
   "outputs": [],
   "source": []
  }
 ],
 "metadata": {
  "kernelspec": {
   "display_name": "Python 2",
   "language": "python",
   "name": "python2"
  },
  "language_info": {
   "codemirror_mode": {
    "name": "ipython",
    "version": 2
   },
   "file_extension": ".py",
   "mimetype": "text/x-python",
   "name": "python",
   "nbconvert_exporter": "python",
   "pygments_lexer": "ipython2",
   "version": "2.7.10"
  }
 },
 "nbformat": 4,
 "nbformat_minor": 0
}
