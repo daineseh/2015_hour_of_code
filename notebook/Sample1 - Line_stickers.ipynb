{
 "cells": [
  {
   "cell_type": "markdown",
   "metadata": {},
   "source": [
    "# Sample1 - Line Sticker"
   ]
  },
  {
   "cell_type": "code",
   "execution_count": 1,
   "metadata": {
    "collapsed": true
   },
   "outputs": [],
   "source": [
    "from bs4 import BeautifulSoup\n",
    "import requests"
   ]
  },
  {
   "cell_type": "code",
   "execution_count": 2,
   "metadata": {
    "collapsed": true
   },
   "outputs": [],
   "source": [
    "url = 'https://store.line.me/stickershop/product/5511/zh-Hant'\n",
    "response = requests.get(url)\n",
    "soup = BeautifulSoup(response.text, 'html.parser')"
   ]
  },
  {
   "cell_type": "code",
   "execution_count": 3,
   "metadata": {
    "collapsed": false
   },
   "outputs": [
    {
     "name": "stdout",
     "output_type": "stream",
     "text": [
      "<span class=\"mdCMN09Image\" data-sticker-id=\"8693394\" style=\"width: 136px; height: 140px; background-image:url(https://sdl-stickershop.line.naver.jp/products/0/0/1/5511/android/stickers/8693394.png); background-size: 136px 140px;\"></span>\n"
     ]
    }
   ],
   "source": [
    "stickers = []\n",
    "\n",
    "for tag in soup.find_all('span'):\n",
    "    if u'style' not in tag.attrs:\n",
    "        continue\n",
    "    print tag\n",
    "    break"
   ]
  },
  {
   "cell_type": "code",
   "execution_count": 4,
   "metadata": {
    "collapsed": false
   },
   "outputs": [
    {
     "data": {
      "text/plain": [
       "bs4.element.Tag"
      ]
     },
     "execution_count": 4,
     "metadata": {},
     "output_type": "execute_result"
    }
   ],
   "source": [
    "type(tag)"
   ]
  },
  {
   "cell_type": "code",
   "execution_count": 5,
   "metadata": {
    "collapsed": false
   },
   "outputs": [
    {
     "data": {
      "text/plain": [
       "['HTML_FORMATTERS',\n",
       " 'XML_FORMATTERS',\n",
       " '__call__',\n",
       " '__class__',\n",
       " '__contains__',\n",
       " '__copy__',\n",
       " '__delattr__',\n",
       " '__delitem__',\n",
       " '__dict__',\n",
       " '__doc__',\n",
       " '__eq__',\n",
       " '__format__',\n",
       " '__getattr__',\n",
       " '__getattribute__',\n",
       " '__getitem__',\n",
       " '__hash__',\n",
       " '__init__',\n",
       " '__iter__',\n",
       " '__len__',\n",
       " '__module__',\n",
       " '__ne__',\n",
       " '__new__',\n",
       " '__nonzero__',\n",
       " '__reduce__',\n",
       " '__reduce_ex__',\n",
       " '__repr__',\n",
       " '__setattr__',\n",
       " '__setitem__',\n",
       " '__sizeof__',\n",
       " '__str__',\n",
       " '__subclasshook__',\n",
       " '__unicode__',\n",
       " '__weakref__',\n",
       " '_all_strings',\n",
       " '_attr_value_as_string',\n",
       " '_attribute_checker',\n",
       " '_find_all',\n",
       " '_find_one',\n",
       " '_formatter_for_name',\n",
       " '_is_xml',\n",
       " '_lastRecursiveChild',\n",
       " '_last_descendant',\n",
       " '_select_debug',\n",
       " '_selector_combinators',\n",
       " '_should_pretty_print',\n",
       " '_tag_name_matches_and',\n",
       " 'append',\n",
       " 'attribselect_re',\n",
       " 'attrs',\n",
       " 'can_be_empty_element',\n",
       " 'childGenerator',\n",
       " 'children',\n",
       " 'clear',\n",
       " 'contents',\n",
       " 'decode',\n",
       " 'decode_contents',\n",
       " 'decompose',\n",
       " 'descendants',\n",
       " 'encode',\n",
       " 'encode_contents',\n",
       " 'extract',\n",
       " 'fetchNextSiblings',\n",
       " 'fetchParents',\n",
       " 'fetchPrevious',\n",
       " 'fetchPreviousSiblings',\n",
       " 'find',\n",
       " 'findAll',\n",
       " 'findAllNext',\n",
       " 'findAllPrevious',\n",
       " 'findChild',\n",
       " 'findChildren',\n",
       " 'findNext',\n",
       " 'findNextSibling',\n",
       " 'findNextSiblings',\n",
       " 'findParent',\n",
       " 'findParents',\n",
       " 'findPrevious',\n",
       " 'findPreviousSibling',\n",
       " 'findPreviousSiblings',\n",
       " 'find_all',\n",
       " 'find_all_next',\n",
       " 'find_all_previous',\n",
       " 'find_next',\n",
       " 'find_next_sibling',\n",
       " 'find_next_siblings',\n",
       " 'find_parent',\n",
       " 'find_parents',\n",
       " 'find_previous',\n",
       " 'find_previous_sibling',\n",
       " 'find_previous_siblings',\n",
       " 'format_string',\n",
       " 'get',\n",
       " 'getText',\n",
       " 'get_text',\n",
       " 'has_attr',\n",
       " 'has_key',\n",
       " 'hidden',\n",
       " 'index',\n",
       " 'insert',\n",
       " 'insert_after',\n",
       " 'insert_before',\n",
       " 'isSelfClosing',\n",
       " 'is_empty_element',\n",
       " 'name',\n",
       " 'namespace',\n",
       " 'next',\n",
       " 'nextGenerator',\n",
       " 'nextSibling',\n",
       " 'nextSiblingGenerator',\n",
       " 'next_element',\n",
       " 'next_elements',\n",
       " 'next_sibling',\n",
       " 'next_siblings',\n",
       " 'parent',\n",
       " 'parentGenerator',\n",
       " 'parents',\n",
       " 'parserClass',\n",
       " 'parser_class',\n",
       " 'prefix',\n",
       " 'prettify',\n",
       " 'previous',\n",
       " 'previousGenerator',\n",
       " 'previousSibling',\n",
       " 'previousSiblingGenerator',\n",
       " 'previous_element',\n",
       " 'previous_elements',\n",
       " 'previous_sibling',\n",
       " 'previous_siblings',\n",
       " 'recursiveChildGenerator',\n",
       " 'renderContents',\n",
       " 'replaceWith',\n",
       " 'replaceWithChildren',\n",
       " 'replace_with',\n",
       " 'replace_with_children',\n",
       " 'select',\n",
       " 'select_one',\n",
       " 'setup',\n",
       " 'string',\n",
       " 'strings',\n",
       " 'stripped_strings',\n",
       " 'tag_name_re',\n",
       " 'text',\n",
       " 'unwrap',\n",
       " 'wrap']"
      ]
     },
     "execution_count": 5,
     "metadata": {},
     "output_type": "execute_result"
    }
   ],
   "source": [
    "dir(tag)"
   ]
  },
  {
   "cell_type": "code",
   "execution_count": 6,
   "metadata": {
    "collapsed": false
   },
   "outputs": [
    {
     "name": "stdout",
     "output_type": "stream",
     "text": [
      "width: 136px; height: 140px; background-image:url(https://sdl-stickershop.line.naver.jp/products/0/0/1/5511/android/stickers/8693394.png); background-size: 136px 140px;\n"
     ]
    }
   ],
   "source": [
    "stickers = []\n",
    "\n",
    "for tag in soup.find_all('span'):\n",
    "    if u'style' not in tag.attrs:\n",
    "        continue\n",
    "    print tag.get('style')\n",
    "    break"
   ]
  },
  {
   "cell_type": "code",
   "execution_count": 7,
   "metadata": {
    "collapsed": false
   },
   "outputs": [
    {
     "name": "stdout",
     "output_type": "stream",
     "text": [
      "https://sdl-stickershop.line.naver.jp/products/0/0/1/5511/android/stickers/8693394.png\n",
      "https://sdl-stickershop.line.naver.jp/products/0/0/1/5511/android/stickers/8693395.png\n",
      "https://sdl-stickershop.line.naver.jp/products/0/0/1/5511/android/stickers/8693396.png\n",
      "https://sdl-stickershop.line.naver.jp/products/0/0/1/5511/android/stickers/8693397.png\n",
      "https://sdl-stickershop.line.naver.jp/products/0/0/1/5511/android/stickers/8693398.png\n",
      "https://sdl-stickershop.line.naver.jp/products/0/0/1/5511/android/stickers/8693399.png\n",
      "https://sdl-stickershop.line.naver.jp/products/0/0/1/5511/android/stickers/8693400.png\n",
      "https://sdl-stickershop.line.naver.jp/products/0/0/1/5511/android/stickers/8693401.png\n",
      "https://sdl-stickershop.line.naver.jp/products/0/0/1/5511/android/stickers/8693402.png\n",
      "https://sdl-stickershop.line.naver.jp/products/0/0/1/5511/android/stickers/8693403.png\n",
      "https://sdl-stickershop.line.naver.jp/products/0/0/1/5511/android/stickers/8693404.png\n",
      "https://sdl-stickershop.line.naver.jp/products/0/0/1/5511/android/stickers/8693405.png\n",
      "https://sdl-stickershop.line.naver.jp/products/0/0/1/5511/android/stickers/8693406.png\n",
      "https://sdl-stickershop.line.naver.jp/products/0/0/1/5511/android/stickers/8693407.png\n",
      "https://sdl-stickershop.line.naver.jp/products/0/0/1/5511/android/stickers/8693408.png\n",
      "https://sdl-stickershop.line.naver.jp/products/0/0/1/5511/android/stickers/8693409.png\n",
      "https://sdl-stickershop.line.naver.jp/products/0/0/1/5511/android/stickers/8693410.png\n",
      "https://sdl-stickershop.line.naver.jp/products/0/0/1/5511/android/stickers/8693411.png\n",
      "https://sdl-stickershop.line.naver.jp/products/0/0/1/5511/android/stickers/8693412.png\n",
      "https://sdl-stickershop.line.naver.jp/products/0/0/1/5511/android/stickers/8693413.png\n",
      "https://sdl-stickershop.line.naver.jp/products/0/0/1/5511/android/stickers/8693414.png\n",
      "https://sdl-stickershop.line.naver.jp/products/0/0/1/5511/android/stickers/8693415.png\n",
      "https://sdl-stickershop.line.naver.jp/products/0/0/1/5511/android/stickers/8693416.png\n",
      "https://sdl-stickershop.line.naver.jp/products/0/0/1/5511/android/stickers/8693417.png\n"
     ]
    }
   ],
   "source": [
    "stickers = []\n",
    "\n",
    "for tag in soup.find_all('span'):\n",
    "    if u'style' not in tag.attrs:\n",
    "        continue\n",
    "    style = tag.get('style')\n",
    "    l_parentheses = style.rfind('(') + 1\n",
    "    r_parentheses = style.rfind(')')\n",
    "    path = style[l_parentheses:r_parentheses]\n",
    "    print path"
   ]
  },
  {
   "cell_type": "markdown",
   "metadata": {},
   "source": [
    "## Result:"
   ]
  },
  {
   "cell_type": "code",
   "execution_count": 8,
   "metadata": {
    "collapsed": false
   },
   "outputs": [
    {
     "name": "stdout",
     "output_type": "stream",
     "text": [
      "8693394.png  8693397.png  8693400.png  8693403.png  8693406.png  8693409.png  8693412.png  8693415.png\r\n",
      "8693395.png  8693398.png  8693401.png  8693404.png  8693407.png  8693410.png  8693413.png  8693416.png\r\n",
      "8693396.png  8693399.png  8693402.png  8693405.png  8693408.png  8693411.png  8693414.png  8693417.png\r\n"
     ]
    }
   ],
   "source": [
    "ls images/line_pic"
   ]
  },
  {
   "cell_type": "markdown",
   "metadata": {},
   "source": [
    "<img src='images/line_pic/8693394.png'/>\n",
    "https://sdl-stickershop.line.naver.jp/products/0/0/1/5511/android/stickers/8693394.png\n",
    "\n",
    "\n",
    "<img src='images/line_pic/8693395.png'/>\n",
    "https://sdl-stickershop.line.naver.jp/products/0/0/1/5511/android/stickers/8693395.png\n",
    "\n",
    "\n",
    "<img src='images/line_pic/8693396.png'/>\n",
    "https://sdl-stickershop.line.naver.jp/products/0/0/1/5511/android/stickers/8693396.png\n",
    "\n",
    "\n",
    "<img src='images/line_pic/8693397.png'/>\n",
    "https://sdl-stickershop.line.naver.jp/products/0/0/1/5511/android/stickers/8693397.png\n",
    "\n",
    "\n",
    "<img src='images/line_pic/8693398.png'/>\n",
    "https://sdl-stickershop.line.naver.jp/products/0/0/1/5511/android/stickers/8693398.png\n",
    "\n",
    "\n",
    "<img src='images/line_pic/8693399.png'/>\n",
    "https://sdl-stickershop.line.naver.jp/products/0/0/1/5511/android/stickers/8693399.png\n",
    "\n",
    "\n",
    "<img src='images/line_pic/8693400.png'/>\n",
    "https://sdl-stickershop.line.naver.jp/products/0/0/1/5511/android/stickers/8693400.png\n",
    "\n",
    "\n",
    "<img src='images/line_pic/8693401.png'/>\n",
    "https://sdl-stickershop.line.naver.jp/products/0/0/1/5511/android/stickers/8693401.png\n",
    "\n",
    "\n",
    "<img src='images/line_pic/8693402.png'/>\n",
    "https://sdl-stickershop.line.naver.jp/products/0/0/1/5511/android/stickers/8693402.png\n",
    "\n",
    "\n",
    "<img src='images/line_pic/8693403.png'/>\n",
    "https://sdl-stickershop.line.naver.jp/products/0/0/1/5511/android/stickers/8693403.png\n",
    "\n",
    "\n",
    "<img src='images/line_pic/8693404.png'/>\n",
    "https://sdl-stickershop.line.naver.jp/products/0/0/1/5511/android/stickers/8693404.png\n",
    "\n",
    "\n",
    "<img src='images/line_pic/8693405.png'/>\n",
    "https://sdl-stickershop.line.naver.jp/products/0/0/1/5511/android/stickers/8693405.png\n",
    "\n",
    "\n",
    "<img src='images/line_pic/8693406.png'/>\n",
    "https://sdl-stickershop.line.naver.jp/products/0/0/1/5511/android/stickers/8693406.png\n",
    "\n",
    "\n",
    "<img src='images/line_pic/8693407.png'/>\n",
    "https://sdl-stickershop.line.naver.jp/products/0/0/1/5511/android/stickers/8693407.png\n",
    "\n",
    "\n",
    "<img src='images/line_pic/8693408.png'/>\n",
    "https://sdl-stickershop.line.naver.jp/products/0/0/1/5511/android/stickers/8693408.png\n",
    "\n",
    "\n",
    "<img src='images/line_pic/8693409.png'/>\n",
    "https://sdl-stickershop.line.naver.jp/products/0/0/1/5511/android/stickers/8693409.png\n",
    "\n",
    "\n",
    "<img src='images/line_pic/8693410.png'/>\n",
    "https://sdl-stickershop.line.naver.jp/products/0/0/1/5511/android/stickers/8693410.png\n",
    "\n",
    "\n",
    "<img src='images/line_pic/8693411.png'/>\n",
    "https://sdl-stickershop.line.naver.jp/products/0/0/1/5511/android/stickers/8693411.png\n",
    "\n",
    "\n",
    "<img src='images/line_pic/8693412.png'/>\n",
    "https://sdl-stickershop.line.naver.jp/products/0/0/1/5511/android/stickers/8693412.png\n",
    "\n",
    "\n",
    "<img src='images/line_pic/8693413.png'/>\n",
    "https://sdl-stickershop.line.naver.jp/products/0/0/1/5511/android/stickers/8693413.png\n",
    "\n",
    "\n",
    "<img src='images/line_pic/8693414.png'/>\n",
    "https://sdl-stickershop.line.naver.jp/products/0/0/1/5511/android/stickers/8693414.png\n",
    "\n",
    "\n",
    "<img src='images/line_pic/8693415.png'/>\n",
    "https://sdl-stickershop.line.naver.jp/products/0/0/1/5511/android/stickers/8693415.png\n",
    "\n",
    "\n",
    "<img src='images/line_pic/8693416.png'/>\n",
    "https://sdl-stickershop.line.naver.jp/products/0/0/1/5511/android/stickers/8693416.png\n",
    "\n",
    "\n",
    "<img src='images/line_pic/8693417.png'/>\n",
    "https://sdl-stickershop.line.naver.jp/products/0/0/1/5511/android/stickers/8693417.png"
   ]
  },
  {
   "cell_type": "code",
   "execution_count": null,
   "metadata": {
    "collapsed": true
   },
   "outputs": [],
   "source": []
  }
 ],
 "metadata": {
  "kernelspec": {
   "display_name": "Python 2",
   "language": "python",
   "name": "python2"
  },
  "language_info": {
   "codemirror_mode": {
    "name": "ipython",
    "version": 2
   },
   "file_extension": ".py",
   "mimetype": "text/x-python",
   "name": "python",
   "nbconvert_exporter": "python",
   "pygments_lexer": "ipython2",
   "version": "2.7.10"
  }
 },
 "nbformat": 4,
 "nbformat_minor": 0
}
