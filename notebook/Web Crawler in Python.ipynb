{
 "cells": [
  {
   "cell_type": "markdown",
   "metadata": {},
   "source": [
    "# Basic concept of crawler\n",
    "\n",
    "## Send request to server and Receive response data\n",
    "<img src=\"images/http.png\"/>\n",
    "- Client enters the beginning url\n",
    "- Web server response data via url\n",
    "\n",
    "## Process response data\n",
    "<img src=\"images/html-parser-json.png\"/>\n",
    "- Received data from web server\n",
    "- Choose a hands on library or customize to parse the received data\n"
   ]
  },
  {
   "cell_type": "markdown",
   "metadata": {},
   "source": [
    "---\n",
    "\n",
    "---\n",
    "\n",
    "---"
   ]
  },
  {
   "cell_type": "markdown",
   "metadata": {},
   "source": [
    "# Request and Response"
   ]
  },
  {
   "cell_type": "markdown",
   "metadata": {},
   "source": [
    "## HTTP Request Method"
   ]
  },
  {
   "cell_type": "markdown",
   "metadata": {},
   "source": [
    "### HTTP 1.1: Method definitions\n",
    "\n",
    "> OPTIONS\n",
    "\n",
    "> GET\n",
    "\n",
    "> HEAD\n",
    "\n",
    "> POST\n",
    "\n",
    "> PUT\n",
    "\n",
    "> DELETE\n",
    "\n",
    "> TRACE\n",
    "\n",
    "> CONNECT\n",
    "\n",
    "Reference: http://www.w3.org/Protocols/rfc2616/rfc2616-sec9.html\n"
   ]
  },
  {
   "cell_type": "markdown",
   "metadata": {},
   "source": [
    "### Two HTTP Request Methods: GET vs. POST\n",
    "> Image as postcard and envelope"
   ]
  },
  {
   "cell_type": "markdown",
   "metadata": {},
   "source": [
    "### GET: Requests data from a specified resource."
   ]
  },
  {
   "cell_type": "raw",
   "metadata": {},
   "source": [
    "http://www.somewhere.com/test/demo_form.html?key1=value1&key2=value2 "
   ]
  },
  {
   "cell_type": "markdown",
   "metadata": {},
   "source": [
    "> GET requests can be cached\n",
    "\n",
    "> GET requests remain in the browser history\n",
    "\n",
    "> GET requests can be bookmarked\n",
    "\n",
    "> GET requests should never be used when dealing with sensitive data\n",
    ">> X) http://www.justfortest.com/login.html?username=HaHaHa&password=UCCU\n",
    "\n",
    "> GET requests have length restrictions\n",
    "\n",
    "> GET requests should be used only to retrieve data"
   ]
  },
  {
   "cell_type": "markdown",
   "metadata": {},
   "source": [
    "### POST: Submits data to be processed to a specified resource."
   ]
  },
  {
   "cell_type": "raw",
   "metadata": {},
   "source": [
    "http://www.somewhere.com/test/demo_form.html"
   ]
  },
  {
   "cell_type": "raw",
   "metadata": {},
   "source": [
    "# The query string (key/value pairs) is sent in the HTTP message body of a POST request\n",
    "POST /test/demo_form.html HTTP/1.1\n",
    "Host: www.somewhere.com\n",
    "key1=value1&key2=value2"
   ]
  },
  {
   "cell_type": "markdown",
   "metadata": {},
   "source": [
    "> POST requests are never cached\n",
    "\n",
    "> POST requests do not remain in the browser history\n",
    "\n",
    "> POST requests cannot be bookmarked\n",
    "\n",
    "> POST requests have no restrictions on data length"
   ]
  },
  {
   "cell_type": "markdown",
   "metadata": {},
   "source": [
    "## Request - Response\n",
    "\n",
    "> HTML\n",
    "\n",
    "> XML\n",
    "\n",
    "> JSON\n",
    "\n",
    "> ..."
   ]
  },
  {
   "cell_type": "markdown",
   "metadata": {},
   "source": [
    "---\n",
    "\n",
    "---\n",
    "\n",
    "---\n",
    "\n",
    "---\n",
    "\n",
    "---\n",
    "\n",
    "---"
   ]
  },
  {
   "cell_type": "markdown",
   "metadata": {},
   "source": [
    "# Python librarys for web crawler"
   ]
  },
  {
   "cell_type": "markdown",
   "metadata": {},
   "source": [
    "## Requests: HTTP for Humans \n",
    "- Requests is an Apache2 Licensed HTTP library\n",
    "- Powered by urllib3, which is embedded within Requests.\n",
    "- Document: http://docs.python-requests.org/en/latest/"
   ]
  },
  {
   "cell_type": "markdown",
   "metadata": {},
   "source": [
    "## Install library command below:"
   ]
  },
  {
   "cell_type": "code",
   "execution_count": 1,
   "metadata": {
    "collapsed": false
   },
   "outputs": [
    {
     "name": "stdout",
     "output_type": "stream",
     "text": [
      "Requirement already satisfied (use --upgrade to upgrade): requests in /Users/dainese/pyenv/ipynotebook/lib/python2.7/site-packages\r\n"
     ]
    }
   ],
   "source": [
    "!pip install requests"
   ]
  },
  {
   "cell_type": "markdown",
   "metadata": {},
   "source": [
    "## Import and List Members of The Requests"
   ]
  },
  {
   "cell_type": "code",
   "execution_count": 2,
   "metadata": {
    "collapsed": false
   },
   "outputs": [
    {
     "data": {
      "text/plain": [
       "['ConnectionError',\n",
       " 'HTTPError',\n",
       " 'NullHandler',\n",
       " 'PreparedRequest',\n",
       " 'Request',\n",
       " 'RequestException',\n",
       " 'Response',\n",
       " 'Session',\n",
       " 'Timeout',\n",
       " 'TooManyRedirects',\n",
       " 'URLRequired',\n",
       " '__author__',\n",
       " '__build__',\n",
       " '__builtins__',\n",
       " '__copyright__',\n",
       " '__doc__',\n",
       " '__file__',\n",
       " '__license__',\n",
       " '__name__',\n",
       " '__package__',\n",
       " '__path__',\n",
       " '__title__',\n",
       " '__version__',\n",
       " 'adapters',\n",
       " 'api',\n",
       " 'auth',\n",
       " 'certs',\n",
       " 'codes',\n",
       " 'compat',\n",
       " 'cookies',\n",
       " 'delete',\n",
       " 'exceptions',\n",
       " 'get',\n",
       " 'head',\n",
       " 'hooks',\n",
       " 'logging',\n",
       " 'models',\n",
       " 'options',\n",
       " 'packages',\n",
       " 'patch',\n",
       " 'post',\n",
       " 'put',\n",
       " 'request',\n",
       " 'session',\n",
       " 'sessions',\n",
       " 'status_codes',\n",
       " 'structures',\n",
       " 'utils']"
      ]
     },
     "execution_count": 2,
     "metadata": {},
     "output_type": "execute_result"
    }
   ],
   "source": [
    "import requests\n",
    "\n",
    "dir(requests)"
   ]
  },
  {
   "cell_type": "markdown",
   "metadata": {},
   "source": [
    "## Available HTTP Request Methods"
   ]
  },
  {
   "cell_type": "code",
   "execution_count": 3,
   "metadata": {
    "collapsed": false
   },
   "outputs": [],
   "source": [
    "response = requests.options(\"http://httpbin.org/get\")\n",
    "response = requests.get(\"http://httpbin.org/get\")\n",
    "response = requests.head(\"http://httpbin.org/get\")\n",
    "response = requests.post(\"http://httpbin.org/post\")\n",
    "response = requests.put(\"http://httpbin.org/put\")\n",
    "response = requests.delete(\"http://httpbin.org/delete\")"
   ]
  },
  {
   "cell_type": "markdown",
   "metadata": {},
   "source": [
    "---"
   ]
  },
  {
   "cell_type": "markdown",
   "metadata": {},
   "source": [
    "## Make A Request"
   ]
  },
  {
   "cell_type": "markdown",
   "metadata": {},
   "source": [
    "- make an HTTP GET request"
   ]
  },
  {
   "cell_type": "code",
   "execution_count": 4,
   "metadata": {
    "collapsed": false,
    "scrolled": true
   },
   "outputs": [
    {
     "name": "stdout",
     "output_type": "stream",
     "text": [
      "<Response [200]>\n"
     ]
    }
   ],
   "source": [
    "response = requests.get('https://api.github.com/events')\n",
    "print response"
   ]
  },
  {
   "cell_type": "markdown",
   "metadata": {},
   "source": [
    "- make an HTTP POST request"
   ]
  },
  {
   "cell_type": "code",
   "execution_count": 5,
   "metadata": {
    "collapsed": false
   },
   "outputs": [
    {
     "name": "stdout",
     "output_type": "stream",
     "text": [
      "<Response [200]>\n"
     ]
    }
   ],
   "source": [
    "response = requests.post(\"http://httpbin.org/post\", data = {\"key\":\"value\"})\n",
    "print response"
   ]
  },
  {
   "cell_type": "markdown",
   "metadata": {},
   "source": [
    "---"
   ]
  },
  {
   "cell_type": "markdown",
   "metadata": {},
   "source": [
    "## Passing Parameters In URLs"
   ]
  },
  {
   "cell_type": "markdown",
   "metadata": {},
   "source": [
    "### A normal passing parameters case"
   ]
  },
  {
   "cell_type": "code",
   "execution_count": 6,
   "metadata": {
    "collapsed": false
   },
   "outputs": [
    {
     "name": "stdout",
     "output_type": "stream",
     "text": [
      "http://httpbin.org/get?key2=value2&key1=value1\n"
     ]
    }
   ],
   "source": [
    "payload = {'key1': 'value1', 'key2': 'value2'}\n",
    "response = requests.get(\"http://httpbin.org/get\", params=payload)\n",
    "print response.url"
   ]
  },
  {
   "cell_type": "markdown",
   "metadata": {},
   "source": [
    "### Any dictionary key whose value is None will not be added to the URL’s query string."
   ]
  },
  {
   "cell_type": "code",
   "execution_count": 7,
   "metadata": {
    "collapsed": false
   },
   "outputs": [
    {
     "name": "stdout",
     "output_type": "stream",
     "text": [
      "http://httpbin.org/get?key1=value1\n"
     ]
    }
   ],
   "source": [
    "payload = {'key1': 'value1', 'key2': None}\n",
    "response = requests.get(\"http://httpbin.org/get\", params=payload)\n",
    "print response.url"
   ]
  },
  {
   "cell_type": "markdown",
   "metadata": {},
   "source": [
    "### Pass a list of items as a value"
   ]
  },
  {
   "cell_type": "code",
   "execution_count": 8,
   "metadata": {
    "collapsed": false,
    "scrolled": true
   },
   "outputs": [
    {
     "name": "stdout",
     "output_type": "stream",
     "text": [
      "http://httpbin.org/get?key2=value2&key2=value3&key1=value1\n"
     ]
    }
   ],
   "source": [
    "payload = {'key1': 'value1', 'key2': ['value2', 'value3']}\n",
    "response = requests.get(\"http://httpbin.org/get\", params=payload)\n",
    "print response.url"
   ]
  },
  {
   "cell_type": "markdown",
   "metadata": {},
   "source": [
    "### Custom Headers"
   ]
  },
  {
   "cell_type": "code",
   "execution_count": 9,
   "metadata": {
    "collapsed": false,
    "scrolled": false
   },
   "outputs": [],
   "source": [
    "url = 'https://api.github.com/some/endpoint'\n",
    "headers = {'user-agent': 'my-app/0.0.1'}\n",
    "response = requests.get(url, headers=headers)"
   ]
  },
  {
   "cell_type": "markdown",
   "metadata": {},
   "source": [
    "### A passing parameters POST requests"
   ]
  },
  {
   "cell_type": "code",
   "execution_count": 10,
   "metadata": {
    "collapsed": false
   },
   "outputs": [
    {
     "name": "stdout",
     "output_type": "stream",
     "text": [
      "{\n",
      "  \"args\": {}, \n",
      "  \"data\": \"\", \n",
      "  \"files\": {}, \n",
      "  \"form\": {\n",
      "    \"key1\": \"value1\", \n",
      "    \"key2\": \"value2\"\n",
      "  }, \n",
      "  \"headers\": {\n",
      "    \"Accept\": \"*/*\", \n",
      "    \"Accept-Encoding\": \"gzip, deflate\", \n",
      "    \"Content-Length\": \"23\", \n",
      "    \"Content-Type\": \"application/x-www-form-urlencoded\", \n",
      "    \"Host\": \"httpbin.org\", \n",
      "    \"User-Agent\": \"python-requests/2.8.1\"\n",
      "  }, \n",
      "  \"json\": null, \n",
      "  \"origin\": \"112.104.13.37\", \n",
      "  \"url\": \"http://httpbin.org/post\"\n",
      "}\n",
      "\n"
     ]
    }
   ],
   "source": [
    "payload = {'key1': 'value1', 'key2': 'value2'}\n",
    "r = requests.post(\"http://httpbin.org/post\", data=payload)\n",
    "print(r.text)"
   ]
  },
  {
   "cell_type": "markdown",
   "metadata": {},
   "source": [
    "### POST a Multipart-Encoded File"
   ]
  },
  {
   "cell_type": "code",
   "execution_count": 11,
   "metadata": {
    "collapsed": false
   },
   "outputs": [
    {
     "name": "stdout",
     "output_type": "stream",
     "text": [
      "{\n",
      "  \"args\": {}, \n",
      "  \"data\": \"\", \n",
      "  \"files\": {\n",
      "    \"filename\": \"Hello!\\nHour of code.\\n\\n\"\n",
      "  }, \n",
      "  \"form\": {}, \n",
      "  \"headers\": {\n",
      "    \"Accept\": \"*/*\", \n",
      "    \"Accept-Encoding\": \"gzip, deflate\", \n",
      "    \"Content-Length\": \"170\", \n",
      "    \"Content-Type\": \"multipart/form-data; boundary=002255b261ac467194893a59f8b809d9\", \n",
      "    \"Host\": \"httpbin.org\", \n",
      "    \"User-Agent\": \"python-requests/2.8.1\"\n",
      "  }, \n",
      "  \"json\": null, \n",
      "  \"origin\": \"112.104.13.37\", \n",
      "  \"url\": \"http://httpbin.org/post\"\n",
      "}\n",
      "\n"
     ]
    }
   ],
   "source": [
    "url = 'http://httpbin.org/post'\n",
    "files = {'filename': open('doc/test.txt', 'rb')}\n",
    "\n",
    "r = requests.post(url, files=files)\n",
    "print r.text"
   ]
  },
  {
   "cell_type": "markdown",
   "metadata": {},
   "source": [
    "- Also can set the filename, content_type and headers explicitly"
   ]
  },
  {
   "cell_type": "code",
   "execution_count": 12,
   "metadata": {
    "collapsed": false,
    "scrolled": true
   },
   "outputs": [
    {
     "name": "stdout",
     "output_type": "stream",
     "text": [
      "{\n",
      "  \"args\": {}, \n",
      "  \"data\": \"\", \n",
      "  \"files\": {\n",
      "    \"filename\": \"Hello!\\nHour of code.\\n\\n\"\n",
      "  }, \n",
      "  \"form\": {}, \n",
      "  \"headers\": {\n",
      "    \"Accept\": \"*/*\", \n",
      "    \"Accept-Encoding\": \"gzip, deflate\", \n",
      "    \"Content-Length\": \"210\", \n",
      "    \"Content-Type\": \"multipart/form-data; boundary=90743a788911411baf056f0e8462f469\", \n",
      "    \"Host\": \"httpbin.org\", \n",
      "    \"User-Agent\": \"python-requests/2.8.1\"\n",
      "  }, \n",
      "  \"json\": null, \n",
      "  \"origin\": \"112.104.13.37\", \n",
      "  \"url\": \"http://httpbin.org/post\"\n",
      "}\n",
      "\n"
     ]
    }
   ],
   "source": [
    "url = 'http://httpbin.org/post'\n",
    "files = {'filename': ('report.xls', open('doc/test.txt', 'rb'), 'text/plain', {'Expires': '0'})}\n",
    "\n",
    "r = requests.post(url, files=files)\n",
    "print r.text"
   ]
  },
  {
   "cell_type": "markdown",
   "metadata": {},
   "source": [
    "- Send strings to be received as files"
   ]
  },
  {
   "cell_type": "code",
   "execution_count": 13,
   "metadata": {
    "collapsed": false,
    "scrolled": true
   },
   "outputs": [
    {
     "name": "stdout",
     "output_type": "stream",
     "text": [
      "{\n",
      "  \"args\": {}, \n",
      "  \"data\": \"\", \n",
      "  \"files\": {\n",
      "    \"filename\": \"some,data,to,send\\nanother,row,to,send\\n\"\n",
      "  }, \n",
      "  \"form\": {}, \n",
      "  \"headers\": {\n",
      "    \"Accept\": \"*/*\", \n",
      "    \"Accept-Encoding\": \"gzip, deflate\", \n",
      "    \"Content-Length\": \"186\", \n",
      "    \"Content-Type\": \"multipart/form-data; boundary=5869e7745ad34474850bfb044c0cbc8a\", \n",
      "    \"Host\": \"httpbin.org\", \n",
      "    \"User-Agent\": \"python-requests/2.8.1\"\n",
      "  }, \n",
      "  \"json\": null, \n",
      "  \"origin\": \"112.104.13.37\", \n",
      "  \"url\": \"http://httpbin.org/post\"\n",
      "}\n",
      "\n"
     ]
    }
   ],
   "source": [
    "url = 'http://httpbin.org/post'\n",
    "files = {'filename': ('test.doc', 'some,data,to,send\\nanother,row,to,send\\n')}\n",
    "\n",
    "r = requests.post(url, files=files)\n",
    "print r.text"
   ]
  },
  {
   "cell_type": "markdown",
   "metadata": {},
   "source": [
    "### To send your own cookies to the server"
   ]
  },
  {
   "cell_type": "code",
   "execution_count": 14,
   "metadata": {
    "collapsed": false
   },
   "outputs": [
    {
     "name": "stdout",
     "output_type": "stream",
     "text": [
      "{\n",
      "  \"cookies\": {\n",
      "    \"cookies_are\": \"working\"\n",
      "  }\n",
      "}\n",
      "\n"
     ]
    }
   ],
   "source": [
    "url = 'http://httpbin.org/cookies'\n",
    "cookies = dict(cookies_are='working')\n",
    "\n",
    "response = requests.get(url, cookies=cookies)\n",
    "print response.text"
   ]
  },
  {
   "cell_type": "markdown",
   "metadata": {},
   "source": [
    "---"
   ]
  },
  {
   "cell_type": "markdown",
   "metadata": {},
   "source": [
    "## Response Methods"
   ]
  },
  {
   "cell_type": "code",
   "execution_count": 15,
   "metadata": {
    "collapsed": false
   },
   "outputs": [
    {
     "data": {
      "text/plain": [
       "['__attrs__',\n",
       " '__bool__',\n",
       " '__class__',\n",
       " '__delattr__',\n",
       " '__dict__',\n",
       " '__doc__',\n",
       " '__format__',\n",
       " '__getattribute__',\n",
       " '__getstate__',\n",
       " '__hash__',\n",
       " '__init__',\n",
       " '__iter__',\n",
       " '__module__',\n",
       " '__new__',\n",
       " '__nonzero__',\n",
       " '__reduce__',\n",
       " '__reduce_ex__',\n",
       " '__repr__',\n",
       " '__setattr__',\n",
       " '__setstate__',\n",
       " '__sizeof__',\n",
       " '__str__',\n",
       " '__subclasshook__',\n",
       " '__weakref__',\n",
       " '_content',\n",
       " '_content_consumed',\n",
       " 'apparent_encoding',\n",
       " 'close',\n",
       " 'connection',\n",
       " 'content',\n",
       " 'cookies',\n",
       " 'elapsed',\n",
       " 'encoding',\n",
       " 'headers',\n",
       " 'history',\n",
       " 'is_permanent_redirect',\n",
       " 'is_redirect',\n",
       " 'iter_content',\n",
       " 'iter_lines',\n",
       " 'json',\n",
       " 'links',\n",
       " 'ok',\n",
       " 'raise_for_status',\n",
       " 'raw',\n",
       " 'reason',\n",
       " 'request',\n",
       " 'status_code',\n",
       " 'text',\n",
       " 'url']"
      ]
     },
     "execution_count": 15,
     "metadata": {},
     "output_type": "execute_result"
    }
   ],
   "source": [
    "response = requests.get('https://api.github.com/events')\n",
    "dir(response)"
   ]
  },
  {
   "cell_type": "markdown",
   "metadata": {},
   "source": [
    "### Content of the server’s response"
   ]
  },
  {
   "cell_type": "code",
   "execution_count": 16,
   "metadata": {
    "collapsed": false
   },
   "outputs": [
    {
     "data": {
      "text/plain": [
       "unicode"
      ]
     },
     "execution_count": 16,
     "metadata": {},
     "output_type": "execute_result"
    }
   ],
   "source": [
    "response.text\n",
    "type(response.text)"
   ]
  },
  {
   "cell_type": "markdown",
   "metadata": {},
   "source": [
    "### Binary response content"
   ]
  },
  {
   "cell_type": "code",
   "execution_count": 17,
   "metadata": {
    "collapsed": false
   },
   "outputs": [
    {
     "data": {
      "text/plain": [
       "str"
      ]
     },
     "execution_count": 17,
     "metadata": {},
     "output_type": "execute_result"
    }
   ],
   "source": [
    "response.text\n",
    "type(response.content)"
   ]
  },
  {
   "cell_type": "markdown",
   "metadata": {},
   "source": [
    "### JSON Response Content"
   ]
  },
  {
   "cell_type": "code",
   "execution_count": 18,
   "metadata": {
    "collapsed": false
   },
   "outputs": [],
   "source": [
    "try:\n",
    "    content  = response.json()\n",
    "except ValueError as e:\n",
    "    print e  # No JSON object could be decoded"
   ]
  },
  {
   "cell_type": "markdown",
   "metadata": {},
   "source": [
    "### Response Status Codes"
   ]
  },
  {
   "cell_type": "code",
   "execution_count": 19,
   "metadata": {
    "collapsed": false
   },
   "outputs": [
    {
     "name": "stdout",
     "output_type": "stream",
     "text": [
      "response.status_code: 200\n",
      "True\n"
     ]
    }
   ],
   "source": [
    "response = requests.get('http://httpbin.org/get')\n",
    "print 'response.status_code:', response.status_code\n",
    "\n",
    "# Requests also comes with a built-in status code lookup object for easy reference:\n",
    "print response.status_code == requests.codes.ok"
   ]
  },
  {
   "cell_type": "code",
   "execution_count": 20,
   "metadata": {
    "collapsed": false,
    "scrolled": false
   },
   "outputs": [
    {
     "name": "stdout",
     "output_type": "stream",
     "text": [
      "bad_response.status_code: 404\n"
     ]
    },
    {
     "ename": "HTTPError",
     "evalue": "404 Client Error: NOT FOUND for url: http://httpbin.org/status/404",
     "output_type": "error",
     "traceback": [
      "\u001b[0;31m---------------------------------------------------------------------------\u001b[0m",
      "\u001b[0;31mHTTPError\u001b[0m                                 Traceback (most recent call last)",
      "\u001b[0;32m<ipython-input-20-e0d54e8b814e>\u001b[0m in \u001b[0;36m<module>\u001b[0;34m()\u001b[0m\n\u001b[1;32m      3\u001b[0m \u001b[0;34m\u001b[0m\u001b[0m\n\u001b[1;32m      4\u001b[0m \u001b[0;31m# If we made a bad request (a 4XX client error or 5XX server error response), we can raise it with Response.raise_for_status():\u001b[0m\u001b[0;34m\u001b[0m\u001b[0;34m\u001b[0m\u001b[0m\n\u001b[0;32m----> 5\u001b[0;31m \u001b[0;32mprint\u001b[0m \u001b[0mbad_response\u001b[0m\u001b[0;34m.\u001b[0m\u001b[0mraise_for_status\u001b[0m\u001b[0;34m(\u001b[0m\u001b[0;34m)\u001b[0m\u001b[0;34m\u001b[0m\u001b[0m\n\u001b[0m",
      "\u001b[0;32m/Users/dainese/pyenv/ipynotebook/lib/python2.7/site-packages/requests/models.pyc\u001b[0m in \u001b[0;36mraise_for_status\u001b[0;34m(self)\u001b[0m\n\u001b[1;32m    835\u001b[0m \u001b[0;34m\u001b[0m\u001b[0m\n\u001b[1;32m    836\u001b[0m         \u001b[0;32mif\u001b[0m \u001b[0mhttp_error_msg\u001b[0m\u001b[0;34m:\u001b[0m\u001b[0;34m\u001b[0m\u001b[0m\n\u001b[0;32m--> 837\u001b[0;31m             \u001b[0;32mraise\u001b[0m \u001b[0mHTTPError\u001b[0m\u001b[0;34m(\u001b[0m\u001b[0mhttp_error_msg\u001b[0m\u001b[0;34m,\u001b[0m \u001b[0mresponse\u001b[0m\u001b[0;34m=\u001b[0m\u001b[0mself\u001b[0m\u001b[0;34m)\u001b[0m\u001b[0;34m\u001b[0m\u001b[0m\n\u001b[0m\u001b[1;32m    838\u001b[0m \u001b[0;34m\u001b[0m\u001b[0m\n\u001b[1;32m    839\u001b[0m     \u001b[0;32mdef\u001b[0m \u001b[0mclose\u001b[0m\u001b[0;34m(\u001b[0m\u001b[0mself\u001b[0m\u001b[0;34m)\u001b[0m\u001b[0;34m:\u001b[0m\u001b[0;34m\u001b[0m\u001b[0m\n",
      "\u001b[0;31mHTTPError\u001b[0m: 404 Client Error: NOT FOUND for url: http://httpbin.org/status/404"
     ]
    }
   ],
   "source": [
    "bad_response = requests.get('http://httpbin.org/status/404')\n",
    "print 'bad_response.status_code:', bad_response.status_code\n",
    "\n",
    "# If we made a bad request (a 4XX client error or 5XX server error response), we can raise it with Response.raise_for_status():\n",
    "print bad_response.raise_for_status()"
   ]
  },
  {
   "cell_type": "code",
   "execution_count": null,
   "metadata": {
    "collapsed": false,
    "scrolled": false
   },
   "outputs": [],
   "source": [
    "#since our status_code for r was 200, when we call raise_for_status() we get:\n",
    "print 'response.status_code', response.status_code\n",
    "print response.raise_for_status()"
   ]
  },
  {
   "cell_type": "markdown",
   "metadata": {},
   "source": [
    "### Response Headers"
   ]
  },
  {
   "cell_type": "code",
   "execution_count": null,
   "metadata": {
    "collapsed": false
   },
   "outputs": [],
   "source": [
    "print r.headers"
   ]
  },
  {
   "cell_type": "markdown",
   "metadata": {},
   "source": [
    "---\n",
    "\n",
    "---\n",
    "\n",
    "---\n",
    "\n",
    "---\n",
    "\n",
    "---\n",
    "\n",
    "---"
   ]
  },
  {
   "cell_type": "markdown",
   "metadata": {},
   "source": [
    "## BeautifulSoup4:  sits atop an HTML or XML parser\n",
    "\n",
    "- A Python library for pulling data out of HTML and XML files. It works with your favorite parser to provide idiomatic ways of navigating, searching, and modifying the parse tree. It commonly saves programmers hours or days of work.\n",
    "\n",
    "- it also supports a number of third-party Python parsers. One is the lxml parser.\n",
    "- Document: http://www.crummy.com/software/BeautifulSoup/bs4/doc/"
   ]
  },
  {
   "cell_type": "markdown",
   "metadata": {},
   "source": [
    "## Install library command below:"
   ]
  },
  {
   "cell_type": "code",
   "execution_count": null,
   "metadata": {
    "collapsed": false
   },
   "outputs": [],
   "source": [
    "!pip install beautifulsoup4 lxml"
   ]
  },
  {
   "cell_type": "markdown",
   "metadata": {},
   "source": [
    "## Import and List Members of The BeautifulSoup4"
   ]
  },
  {
   "cell_type": "code",
   "execution_count": null,
   "metadata": {
    "collapsed": false
   },
   "outputs": [],
   "source": [
    "from bs4 import BeautifulSoup\n",
    "\n",
    "dir(BeautifulSoup)"
   ]
  },
  {
   "cell_type": "markdown",
   "metadata": {},
   "source": [
    "## Typical Usage"
   ]
  },
  {
   "cell_type": "markdown",
   "metadata": {
    "collapsed": false
   },
   "source": [
    "- Python's html.parser\n",
    "#### soup = BeautifulSoup(html_markup, 'html.parser')"
   ]
  },
  {
   "cell_type": "markdown",
   "metadata": {},
   "source": [
    "- lxml's HTML parser\n",
    "#### soup = BeautifulSoup(html_markup, \"lxml\")"
   ]
  },
  {
   "cell_type": "markdown",
   "metadata": {},
   "source": [
    "- lxml's XML parser\n",
    "#### soup = BeautifulSoup(xml_markup, \"lxml-xml\")\n",
    "#### soup = BeautifulSoup(xml_markup, \"xml\")"
   ]
  },
  {
   "cell_type": "markdown",
   "metadata": {},
   "source": [
    "## Quick Start"
   ]
  },
  {
   "cell_type": "code",
   "execution_count": 21,
   "metadata": {
    "collapsed": true
   },
   "outputs": [],
   "source": [
    "#Here’s an HTML document I’ll be using as an example throughout this document.\n",
    "#It’s part of a story from Alice in Wonderland:\n",
    "\n",
    "html_markup = \"\"\"\n",
    "<html><head><title>The Dormouse's story</title></head>\n",
    "<body>\n",
    "<p class=\"title\"><b>The Dormouse's story</b></p>\n",
    "\n",
    "<p class=\"story\">Once upon a time there were three little sisters; and their names were\n",
    "<a href=\"http://example.com/elsie\" class=\"sister\" id=\"link1\">Elsie</a>,\n",
    "<a href=\"http://example.com/lacie\" class=\"sister\" id=\"link2\">Lacie</a> and\n",
    "<a href=\"http://example.com/tillie\" class=\"sister\" id=\"link3\">Tillie</a>;\n",
    "and they lived at the bottom of a well.</p>\n",
    "\n",
    "<p class=\"story\">...</p>\n",
    "\"\"\""
   ]
  },
  {
   "cell_type": "markdown",
   "metadata": {},
   "source": [
    "### Import and Get BeautifulSoup object"
   ]
  },
  {
   "cell_type": "code",
   "execution_count": 22,
   "metadata": {
    "collapsed": false
   },
   "outputs": [],
   "source": [
    "from bs4 import BeautifulSoup\n",
    "soup = BeautifulSoup(html_markup, 'lxml')"
   ]
  },
  {
   "cell_type": "code",
   "execution_count": 23,
   "metadata": {
    "collapsed": false
   },
   "outputs": [
    {
     "data": {
      "text/plain": [
       "bs4.BeautifulSoup"
      ]
     },
     "execution_count": 23,
     "metadata": {},
     "output_type": "execute_result"
    }
   ],
   "source": [
    "type(soup)"
   ]
  },
  {
   "cell_type": "code",
   "execution_count": 24,
   "metadata": {
    "collapsed": false
   },
   "outputs": [
    {
     "name": "stdout",
     "output_type": "stream",
     "text": [
      "<html>\n",
      " <head>\n",
      "  <title>\n",
      "   The Dormouse's story\n",
      "  </title>\n",
      " </head>\n",
      " <body>\n",
      "  <p class=\"title\">\n",
      "   <b>\n",
      "    The Dormouse's story\n",
      "   </b>\n",
      "  </p>\n",
      "  <p class=\"story\">\n",
      "   Once upon a time there were three little sisters; and their names were\n",
      "   <a class=\"sister\" href=\"http://example.com/elsie\" id=\"link1\">\n",
      "    Elsie\n",
      "   </a>\n",
      "   ,\n",
      "   <a class=\"sister\" href=\"http://example.com/lacie\" id=\"link2\">\n",
      "    Lacie\n",
      "   </a>\n",
      "   and\n",
      "   <a class=\"sister\" href=\"http://example.com/tillie\" id=\"link3\">\n",
      "    Tillie\n",
      "   </a>\n",
      "   ;\n",
      "and they lived at the bottom of a well.\n",
      "  </p>\n",
      "  <p class=\"story\">\n",
      "   ...\n",
      "  </p>\n",
      " </body>\n",
      "</html>\n"
     ]
    }
   ],
   "source": [
    "print soup.prettify()"
   ]
  },
  {
   "cell_type": "markdown",
   "metadata": {},
   "source": [
    "### Select tag name - title"
   ]
  },
  {
   "cell_type": "markdown",
   "metadata": {
    "collapsed": true
   },
   "source": [
    "html_markup = \"\"\"\n",
    "<html><head><title>The Dormouse's story</title></head>\n",
    "<body>\n",
    "<p class=\"title\"><b>The Dormouse's story</b></p>\n",
    "\n",
    "<p class=\"story\">Once upon a time there were three little sisters; and their names were\n",
    "<a href=\"http://example.com/elsie\" class=\"sister\" id=\"link1\">Elsie</a>,\n",
    "<a href=\"http://example.com/lacie\" class=\"sister\" id=\"link2\">Lacie</a> and\n",
    "<a href=\"http://example.com/tillie\" class=\"sister\" id=\"link3\">Tillie</a>;\n",
    "and they lived at the bottom of a well.</p>\n",
    "\n",
    "<p class=\"storcy\">...</p>\n",
    "\"\"\""
   ]
  },
  {
   "cell_type": "code",
   "execution_count": 25,
   "metadata": {
    "collapsed": false,
    "scrolled": false
   },
   "outputs": [
    {
     "data": {
      "text/plain": [
       "<title>The Dormouse's story</title>"
      ]
     },
     "execution_count": 25,
     "metadata": {},
     "output_type": "execute_result"
    }
   ],
   "source": [
    "soup.title"
   ]
  },
  {
   "cell_type": "code",
   "execution_count": 26,
   "metadata": {
    "collapsed": false,
    "scrolled": true
   },
   "outputs": [
    {
     "data": {
      "text/plain": [
       "'title'"
      ]
     },
     "execution_count": 26,
     "metadata": {},
     "output_type": "execute_result"
    }
   ],
   "source": [
    "soup.title.name"
   ]
  },
  {
   "cell_type": "code",
   "execution_count": 27,
   "metadata": {
    "collapsed": false
   },
   "outputs": [
    {
     "data": {
      "text/plain": [
       "u\"The Dormouse's story\""
      ]
     },
     "execution_count": 27,
     "metadata": {},
     "output_type": "execute_result"
    }
   ],
   "source": [
    "soup.title.string"
   ]
  },
  {
   "cell_type": "markdown",
   "metadata": {},
   "source": [
    "---"
   ]
  },
  {
   "cell_type": "markdown",
   "metadata": {},
   "source": [
    "### Select tag name - head"
   ]
  },
  {
   "cell_type": "markdown",
   "metadata": {
    "collapsed": true
   },
   "source": [
    "html_markup = \"\"\"\n",
    "<html><head><title>The Dormouse's story</title></head>\n",
    "<body>\n",
    "<p class=\"title\"><b>The Dormouse's story</b></p>\n",
    "\n",
    "<p class=\"story\">Once upon a time there were three little sisters; and their names were\n",
    "<a href=\"http://example.com/elsie\" class=\"sister\" id=\"link1\">Elsie</a>,\n",
    "<a href=\"http://example.com/lacie\" class=\"sister\" id=\"link2\">Lacie</a> and\n",
    "<a href=\"http://example.com/tillie\" class=\"sister\" id=\"link3\">Tillie</a>;\n",
    "and they lived at the bottom of a well.</p>\n",
    "\n",
    "<p class=\"storcy\">...</p>\n",
    "\"\"\""
   ]
  },
  {
   "cell_type": "code",
   "execution_count": 28,
   "metadata": {
    "collapsed": false
   },
   "outputs": [
    {
     "data": {
      "text/plain": [
       "<head><title>The Dormouse's story</title></head>"
      ]
     },
     "execution_count": 28,
     "metadata": {},
     "output_type": "execute_result"
    }
   ],
   "source": [
    "soup.head"
   ]
  },
  {
   "cell_type": "code",
   "execution_count": 29,
   "metadata": {
    "collapsed": false
   },
   "outputs": [
    {
     "data": {
      "text/plain": [
       "'head'"
      ]
     },
     "execution_count": 29,
     "metadata": {},
     "output_type": "execute_result"
    }
   ],
   "source": [
    "soup.head.name"
   ]
  },
  {
   "cell_type": "code",
   "execution_count": 30,
   "metadata": {
    "collapsed": false
   },
   "outputs": [
    {
     "data": {
      "text/plain": [
       "u\"The Dormouse's story\""
      ]
     },
     "execution_count": 30,
     "metadata": {},
     "output_type": "execute_result"
    }
   ],
   "source": [
    "soup.head.string"
   ]
  },
  {
   "cell_type": "markdown",
   "metadata": {},
   "source": [
    "---"
   ]
  },
  {
   "cell_type": "markdown",
   "metadata": {},
   "source": [
    "### Find a parent tag from someone tag"
   ]
  },
  {
   "cell_type": "markdown",
   "metadata": {
    "collapsed": true
   },
   "source": [
    "html_markup = \"\"\"\n",
    "<html><head><title>The Dormouse's story</title></head>\n",
    "<body>\n",
    "<p class=\"title\"><b>The Dormouse's story</b></p>\n",
    "\n",
    "<p class=\"story\">Once upon a time there were three little sisters; and their names were\n",
    "<a href=\"http://example.com/elsie\" class=\"sister\" id=\"link1\">Elsie</a>,\n",
    "<a href=\"http://example.com/lacie\" class=\"sister\" id=\"link2\">Lacie</a> and\n",
    "<a href=\"http://example.com/tillie\" class=\"sister\" id=\"link3\">Tillie</a>;\n",
    "and they lived at the bottom of a well.</p>\n",
    "\n",
    "<p class=\"storcy\">...</p>\n",
    "\"\"\""
   ]
  },
  {
   "cell_type": "code",
   "execution_count": 31,
   "metadata": {
    "collapsed": false,
    "scrolled": true
   },
   "outputs": [
    {
     "data": {
      "text/plain": [
       "'head'"
      ]
     },
     "execution_count": 31,
     "metadata": {},
     "output_type": "execute_result"
    }
   ],
   "source": [
    "soup.title.parent.name"
   ]
  },
  {
   "cell_type": "markdown",
   "metadata": {},
   "source": [
    "---"
   ]
  },
  {
   "cell_type": "markdown",
   "metadata": {},
   "source": [
    "### Find 'p' tag's  attribute - class"
   ]
  },
  {
   "cell_type": "markdown",
   "metadata": {
    "collapsed": true
   },
   "source": [
    "html_markup = \"\"\"\n",
    "<html><head><title>The Dormouse's story</title></head>\n",
    "<body>\n",
    "<p class=\"title\"><b>The Dormouse's story</b></p>\n",
    "\n",
    "<p class=\"story\">Once upon a time there were three little sisters; and their names were\n",
    "<a href=\"http://example.com/elsie\" class=\"sister\" id=\"link1\">Elsie</a>,\n",
    "<a href=\"http://example.com/lacie\" class=\"sister\" id=\"link2\">Lacie</a> and\n",
    "<a href=\"http://example.com/tillie\" class=\"sister\" id=\"link3\">Tillie</a>;\n",
    "and they lived at the bottom of a well.</p>\n",
    "\n",
    "<p class=\"storcy\">...</p>\n",
    "\"\"\""
   ]
  },
  {
   "cell_type": "code",
   "execution_count": 32,
   "metadata": {
    "collapsed": false
   },
   "outputs": [
    {
     "data": {
      "text/plain": [
       "<p class=\"title\"><b>The Dormouse's story</b></p>"
      ]
     },
     "execution_count": 32,
     "metadata": {},
     "output_type": "execute_result"
    }
   ],
   "source": [
    "soup.p"
   ]
  },
  {
   "cell_type": "code",
   "execution_count": 33,
   "metadata": {
    "collapsed": false
   },
   "outputs": [
    {
     "data": {
      "text/plain": [
       "['title']"
      ]
     },
     "execution_count": 33,
     "metadata": {},
     "output_type": "execute_result"
    }
   ],
   "source": [
    "soup.p['class']\n",
    "# return a list"
   ]
  },
  {
   "cell_type": "raw",
   "metadata": {
    "collapsed": false
   },
   "source": [
    "# if tag string have multi-valued :  <p class=\"title body\">\n",
    "# soup.p['class'] return ['title', 'body']"
   ]
  },
  {
   "cell_type": "markdown",
   "metadata": {},
   "source": [
    "---"
   ]
  },
  {
   "cell_type": "markdown",
   "metadata": {},
   "source": [
    "### Find a tag name in all content"
   ]
  },
  {
   "cell_type": "markdown",
   "metadata": {
    "collapsed": true
   },
   "source": [
    "html_markup = \"\"\"\n",
    "<html><head><title>The Dormouse's story</title></head>\n",
    "<body>\n",
    "<p class=\"title\"><b>The Dormouse's story</b></p>\n",
    "\n",
    "<p class=\"story\">Once upon a time there were three little sisters; and their names were\n",
    "<a href=\"http://example.com/elsie\" class=\"sister\" id=\"link1\">Elsie</a>,\n",
    "<a href=\"http://example.com/lacie\" class=\"sister\" id=\"link2\">Lacie</a> and\n",
    "<a href=\"http://example.com/tillie\" class=\"sister\" id=\"link3\">Tillie</a>;\n",
    "and they lived at the bottom of a well.</p>\n",
    "\n",
    "<p class=\"storcy\">...</p>\n",
    "\"\"\""
   ]
  },
  {
   "cell_type": "code",
   "execution_count": 39,
   "metadata": {
    "collapsed": false
   },
   "outputs": [
    {
     "data": {
      "text/plain": [
       "[<a class=\"sister\" href=\"http://example.com/elsie\" id=\"link1\">Elsie</a>,\n",
       " <a class=\"sister\" href=\"http://example.com/lacie\" id=\"link2\">Lacie</a>,\n",
       " <a class=\"sister\" href=\"http://example.com/tillie\" id=\"link3\">Tillie</a>]"
      ]
     },
     "execution_count": 39,
     "metadata": {},
     "output_type": "execute_result"
    }
   ],
   "source": [
    "soup.find_all('a')\n",
    "# return a list"
   ]
  },
  {
   "cell_type": "markdown",
   "metadata": {},
   "source": [
    "---"
   ]
  },
  {
   "cell_type": "markdown",
   "metadata": {},
   "source": [
    "### Find a target via attribute name"
   ]
  },
  {
   "cell_type": "markdown",
   "metadata": {
    "collapsed": true
   },
   "source": [
    "html_markup = \"\"\"\n",
    "<html><head><title>The Dormouse's story</title></head>\n",
    "<body>\n",
    "<p class=\"title\"><b>The Dormouse's story</b></p>\n",
    "\n",
    "<p class=\"story\">Once upon a time there were three little sisters; and their names were\n",
    "<a href=\"http://example.com/elsie\" class=\"sister\" id=\"link1\">Elsie</a>,\n",
    "<a href=\"http://example.com/lacie\" class=\"sister\" id=\"link2\">Lacie</a> and\n",
    "<a href=\"http://example.com/tillie\" class=\"sister\" id=\"link3\">Tillie</a>;\n",
    "and they lived at the bottom of a well.</p>\n",
    "\n",
    "<p class=\"storcy\">...</p>\n",
    "\"\"\""
   ]
  },
  {
   "cell_type": "code",
   "execution_count": 35,
   "metadata": {
    "collapsed": false
   },
   "outputs": [],
   "source": [
    "target = soup.find(id=\"link3\")\n"
   ]
  },
  {
   "cell_type": "code",
   "execution_count": 38,
   "metadata": {
    "collapsed": false
   },
   "outputs": [
    {
     "data": {
      "text/plain": [
       "'a'"
      ]
     },
     "execution_count": 38,
     "metadata": {},
     "output_type": "execute_result"
    }
   ],
   "source": [
    "target.name"
   ]
  },
  {
   "cell_type": "code",
   "execution_count": 37,
   "metadata": {
    "collapsed": false
   },
   "outputs": [
    {
     "data": {
      "text/plain": [
       "u'Tillie'"
      ]
     },
     "execution_count": 37,
     "metadata": {},
     "output_type": "execute_result"
    }
   ],
   "source": [
    "target.string"
   ]
  },
  {
   "cell_type": "markdown",
   "metadata": {},
   "source": [
    "---\n",
    "\n",
    "---\n",
    "\n",
    "---\n",
    "\n",
    "---\n",
    "\n",
    "---\n",
    "\n",
    "---"
   ]
  },
  {
   "cell_type": "markdown",
   "metadata": {},
   "source": [
    "## DEMO: Get all hyperlink in PyCon Taiwan front page\n",
    "<img src='images/pycon.png'/>"
   ]
  },
  {
   "cell_type": "code",
   "execution_count": 41,
   "metadata": {
    "collapsed": false
   },
   "outputs": [],
   "source": [
    "from bs4 import BeautifulSoup\n",
    "import lxml\n",
    "import requests\n",
    "\n",
    "response = requests.get(\"https://tw.pycon.org/2016\")\n",
    "soup = BeautifulSoup(response.text, 'lxml')"
   ]
  },
  {
   "cell_type": "code",
   "execution_count": 44,
   "metadata": {
    "collapsed": false
   },
   "outputs": [
    {
     "name": "stdout",
     "output_type": "stream",
     "text": [
      "<!DOCTYPE html>\n",
      "<!--[if lt IE 7]>      <html class=\"no-js lt-ie9 lt-ie8 lt-ie7\"> <![endif]-->\n",
      "<!--[if IE 7]>         <html class=\"no-js lt-ie9 lt-ie8\"> <![endif]-->\n",
      "<!--[if IE 8]>         <html class=\"no-js lt-ie9\"> <![endif]-->\n",
      "<!--[if gt IE 8]><!-->\n",
      "<html class=\"no-js\">\n",
      " <!--<![endif]-->\n",
      " <head>\n",
      "  <meta charset=\"utf-8\"/>\n",
      "  <meta content=\"IE=edge\" http-equiv=\"X-UA-Compatible\"/>\n",
      "  <meta content=\"\" name=\"description\"/>\n",
      "  <meta content=\"width=device-width, initial-scale=1\" name=\"viewport\"/>\n",
      "  <link href=\"/2016/static/images/favicon_pyconTW_32x32.png\" rel=\"icon\" type=\"image/png\"/>\n",
      "  <link href=\"/2016/static/CACHE/css/6a4f8e910730.css\" rel=\"stylesheet\" type=\"text/css\"/>\n",
      "  <link href=\"https://fonts.googleapis.com/css?family=Roboto:300,500\" rel=\"stylesheet\" type=\"text/css\"/>\n",
      "  <link href=\"https://fonts.googleapis.com/earlyaccess/cwtexhei.css\" rel=\"stylesheet\" type=\"text/css\"/>\n",
      "  <link href=\"https://maxcdn.bootstrapcdn.com/font-awesome/4.4.0/css/font-awesome.min.css\" rel=\"stylesheet\"/>\n",
      "  <!--[if lt IE 9]>\n",
      "    <script src=\"/2016/static/js/html5shiv.min.js\"></script>\n",
      "    <script src=\"/2016/static/js/respond.min.js\"></script>\n",
      "    <![endif]-->\n",
      "  <title>\n",
      "   PyCon Taiwan 2016\n",
      "  </title>\n",
      " </head>\n",
      " <body class=\"\">\n",
      "  <nav class=\"top-nav container-fluid clearfix\">\n",
      "   <a href=\"/2016/\">\n",
      "    <img alt=\"logo\" class=\"logo hidden-xs\" src=\"/2016/static/images/logo-tiny--reverse.png\"/>\n",
      "   </a>\n",
      "   <div class=\"social pull-right\">\n",
      "    <a class=\"social-btn\" href=\"https://www.facebook.com/pycontw\" target=\"_blank\">\n",
      "     <i class=\"fa fa-facebook fa-lg\">\n",
      "     </i>\n",
      "    </a>\n",
      "    <a class=\"social-btn\" href=\"https://twitter.com/pycontw\" target=\"_blank\">\n",
      "     <i class=\"fa fa-twitter fa-lg\">\n",
      "     </i>\n",
      "    </a>\n",
      "   </div>\n",
      "  </nav>\n",
      "  <div class=\"section header\">\n",
      "   <div class=\"container\">\n",
      "    <div class=\"row\">\n",
      "     <h1 class=\"logo text-center col-sm-8 col-sm-offset-2 col-xs-10 col-xs-offset-1\">\n",
      "      <img alt=\"PYCON Taiwan 2016\" class=\"img-responsive\" src=\"/2016/static/images/logo.png\"/>\n",
      "     </h1>\n",
      "     <div class=\"slogan col-xs-12\">\n",
      "      <p>\n",
      "       Implement the Future, Together !\n",
      "      </p>\n",
      "     </div>\n",
      "    </div>\n",
      "    <div class=\"row\">\n",
      "     <div class=\"schedule-wrapper\">\n",
      "      <div class=\"row\">\n",
      "       <div class=\"h3 schedule__title--lg\">\n",
      "        Tutorials\n",
      "       </div>\n",
      "       <div class=\"h3 schedule__title--lg\">\n",
      "        Conference\n",
      "       </div>\n",
      "       <div class=\"h3 schedule__title--lg\">\n",
      "        Sprint\n",
      "       </div>\n",
      "      </div>\n",
      "      <div class=\"row schedule\">\n",
      "       <div class=\"schedule-block\">\n",
      "        <h3 class=\"schedule__title\">\n",
      "         Tutorials\n",
      "        </h3>\n",
      "        <p>\n",
      "         TBD\n",
      "        </p>\n",
      "       </div>\n",
      "       <div class=\"schedule-block\">\n",
      "        <h3 class=\"schedule__title\">\n",
      "         Conference\n",
      "        </h3>\n",
      "        <p>\n",
      "         June 3-5, 2016\n",
      "        </p>\n",
      "       </div>\n",
      "       <div class=\"schedule-block\">\n",
      "        <h3 class=\"schedule__title\">\n",
      "         Sprint\n",
      "        </h3>\n",
      "        <p>\n",
      "         TBD\n",
      "        </p>\n",
      "       </div>\n",
      "      </div>\n",
      "     </div>\n",
      "    </div>\n",
      "   </div>\n",
      "  </div>\n",
      "  <div class=\"section intro\">\n",
      "   <div class=\"container\">\n",
      "    <p class=\"quote\">\n",
      "     \"Simple is better than complex.    Complex is better than complicated.\"\n",
      "    </p>\n",
      "    <div class=\"row\">\n",
      "     <section class=\"intro__pycon col-md-8\">\n",
      "      <h2 class=\"intro__heading\">\n",
      "       What is PyCon\n",
      "      </h2>\n",
      "      <div class=\"intro__body\">\n",
      "       The original PyCon was formed in North America in 2003, and now there are many other conferences being run in the PyCon spirit around the world.\n",
      "      </div>\n",
      "     </section>\n",
      "    </div>\n",
      "    <div class=\"row\">\n",
      "     <section class=\"intro__pycontw\">\n",
      "      <h2 class=\"intro__heading\">\n",
      "       And what is PyCon Taiwan\n",
      "      </h2>\n",
      "      <div class=\"intro__body\">\n",
      "       PyCon Taiwan is an annual convention in Taiwan for the discussion and promotion of the Python programming language. It is held by enthusiasts and focuses on Python technology and its versatile applications. We welcome people who are interested in Python to join PyCon Taiwan to share knowledge, exchange ideas, make connections and to help us grow our network.\n",
      "      </div>\n",
      "     </section>\n",
      "     <section class=\"intro__volunteer\">\n",
      "      <div class=\"volunteer\">\n",
      "       <h2 class=\"volunteer__heading h4\">\n",
      "        Volunteers Needed!\n",
      "       </h2>\n",
      "       <div class=\"volunteer__body\">\n",
      "        <p>\n",
      "         Help us organize and make the conference successful!\n",
      "        </p>\n",
      "        <p>\n",
      "         Please fill out\n",
      "         <br/>\n",
      "         <a href=\"https://docs.google.com/forms/d/1JoHhAj6NeXg98OFAAvAHQ6Dcrh9Dxp2PttHKwxNbiFs/viewform\" target=\"_blank\">\n",
      "          our volunteer form\n",
      "         </a>\n",
      "        </p>\n",
      "       </div>\n",
      "      </div>\n",
      "     </section>\n",
      "    </div>\n",
      "   </div>\n",
      "  </div>\n",
      "  <div class=\"section\">\n",
      "   <div class=\"container\">\n",
      "    <div class=\"row\">\n",
      "     <div class=\"col-xs-12\">\n",
      "      <div class=\"community\">\n",
      "       <h2 class=\"section__heading\">\n",
      "        Python Community in Taiwan\n",
      "       </h2>\n",
      "       <ul class=\"community__list row\">\n",
      "        <li>\n",
      "         <a href=\"http://www.meetup.com/Taipei-py/\" target=\"_blank\">\n",
      "          <div class=\"pull-left\">\n",
      "           Taipei.py -\n",
      "          </div>\n",
      "          <div>\n",
      "           Taipei Python User Group\n",
      "          </div>\n",
      "         </a>\n",
      "        </li>\n",
      "        <li>\n",
      "         <a href=\"http://www.meetup.com/pythonhug/\" target=\"_blank\">\n",
      "          <div class=\"pull-left\">\n",
      "           PyHUG -\n",
      "          </div>\n",
      "          <div>\n",
      "           Python Hsinchu User Group\n",
      "          </div>\n",
      "         </a>\n",
      "        </li>\n",
      "        <li>\n",
      "         <a href=\"http://www.meetup.com/PyLadiesTW/\" target=\"_blank\">\n",
      "          PyLadies Taiwan\n",
      "         </a>\n",
      "        </li>\n",
      "        <li>\n",
      "         <a href=\"http://www.meetup.com/Tainan-py-Python-Tainan-User-Group/\" target=\"_blank\">\n",
      "          <div class=\"pull-left\">\n",
      "           Tainan.py -\n",
      "          </div>\n",
      "          <div>\n",
      "           Python Tainan User Group\n",
      "          </div>\n",
      "         </a>\n",
      "        </li>\n",
      "        <li>\n",
      "         <a href=\"http://www.meetup.com/Kaohsiung-Python-Meetup\" target=\"_blank\">\n",
      "          <div class=\"pull-left\">\n",
      "           Kaohsiung.py -\n",
      "          </div>\n",
      "          <div>\n",
      "           Kaohsiung Python User Group\n",
      "          </div>\n",
      "         </a>\n",
      "        </li>\n",
      "        <li>\n",
      "         <a href=\"http://www.meetup.com/Taichung-Python-Meetup/\" target=\"_blank\">\n",
      "          <div class=\"pull-left\">\n",
      "           Taichung.py -\n",
      "          </div>\n",
      "          <div>\n",
      "           Taichung Python User Group\n",
      "          </div>\n",
      "         </a>\n",
      "        </li>\n",
      "        <li>\n",
      "         <a href=\"http://djangogirls.org/taipei\" target=\"_blank\">\n",
      "          Django Girls Taipei\n",
      "         </a>\n",
      "        </li>\n",
      "        <li>\n",
      "         <a href=\"http://www.meetup.com/Hualien-Py/\" target=\"_blank\">\n",
      "          <div class=\"pull-left\">\n",
      "           Hualien.py -\n",
      "          </div>\n",
      "          <div>\n",
      "           Hualien Python User Group\n",
      "          </div>\n",
      "         </a>\n",
      "        </li>\n",
      "       </ul>\n",
      "      </div>\n",
      "     </div>\n",
      "    </div>\n",
      "   </div>\n",
      "  </div>\n",
      "  <div class=\"section sponsorship\">\n",
      "   <div class=\"container\">\n",
      "    <div class=\"row\">\n",
      "     <div class=\"sponsorship__call col-sm-6 col-sm-offset-3\">\n",
      "      Call for Sponsors!\n",
      "     </div>\n",
      "    </div>\n",
      "    <div class=\"row\">\n",
      "     <div class=\"col-md-8 col-md-offset-2\">\n",
      "      <p>\n",
      "       Sponsoring PyCon Taiwan 2016 will connect your brand with estimated total 800 Python enthusiastic users and developers in Taiwan, 9 out of 10 are professionals. It’s a great opportunity to find talents and promote your products here.\n",
      "      </p>\n",
      "      <p>\n",
      "       Contact us at\n",
      "       <a href=\"mailto:sponsorship@pycon.tw\">\n",
      "        sponsorship@pycon.tw\n",
      "       </a>\n",
      "       for sponsorship details.\n",
      "      </p>\n",
      "      <br/>\n",
      "      <p>\n",
      "       See also\n",
      "       <a href=\"https://tw.pycon.org/2015apac/en/sponsors/\" target=\"_blank\">\n",
      "        Sponsors of PyCon APAC 2015\n",
      "       </a>\n",
      "      </p>\n",
      "     </div>\n",
      "    </div>\n",
      "   </div>\n",
      "  </div>\n",
      "  <div class=\"section conf\">\n",
      "   <div class=\"block container\">\n",
      "    <p class=\"quote\">\n",
      "     \"Beautiful is better than ugly.     Explicit is better than implicit. \"\n",
      "    </p>\n",
      "   </div>\n",
      "  </div>\n",
      "  <div class=\"section sponsors\">\n",
      "   <div class=\"container\">\n",
      "    <div class=\"row\">\n",
      "     <div class=\"col-xs-12\">\n",
      "      <h2 class=\"section__heading\">\n",
      "       Sponsors\n",
      "      </h2>\n",
      "      <div class=\"row\">\n",
      "       <div class=\"sponsors__logo col-sm-12\">\n",
      "        <a href=\"http://aktsk.com.tw/\" target=\"_blank\">\n",
      "         <img alt=\"akatsuki\" class=\"img-responsive\" src=\"/2016/static/images/sponsors/akatsuki.png\" style=\"max-height:100px;\"/>\n",
      "        </a>\n",
      "       </div>\n",
      "      </div>\n",
      "      <div class=\"row\">\n",
      "       <div class=\"sponsors__logo col-sm-4\">\n",
      "        <a href=\"http://ocf.tw\" target=\"_blank\">\n",
      "         <img alt=\"openculture\" class=\"img-responsive\" src=\"/2016/static/images/sponsors/openculture.png\" style=\"max-height:50px;\"/>\n",
      "        </a>\n",
      "       </div>\n",
      "       <div class=\"sponsors__logo col-sm-4\">\n",
      "        <a href=\"http://www.wolftea.com\" target=\"_blank\">\n",
      "         <img alt=\"wolftea\" class=\"img-responsive\" src=\"/2016/static/images/sponsors/wolftea.png\" style=\"max-height:100px; margin-top:10px;\"/>\n",
      "        </a>\n",
      "       </div>\n",
      "       <div class=\"sponsors__logo col-sm-4\">\n",
      "        <a href=\"http://www.gliacloud.com\" target=\"_blank\">\n",
      "         <img alt=\"gliacloud\" class=\"img-responsive\" src=\"/2016/static/images/sponsors/gliacloud.png\" style=\"max-height:50px;\"/>\n",
      "        </a>\n",
      "       </div>\n",
      "      </div>\n",
      "     </div>\n",
      "    </div>\n",
      "   </div>\n",
      "  </div>\n",
      "  <footer class=\"footer container-fluid text-center\">\n",
      "   <div class=\"row clearfix\">\n",
      "    <div class=\"col-md-2\">\n",
      "     2016 PyCon Taiwan\n",
      "    </div>\n",
      "    <div class=\"col-md-8 hidden-xs hidden-sm\">\n",
      "     <img class=\"logo\" src=\"/2016/static/images/logo-tiny.png\"/>\n",
      "    </div>\n",
      "    <div class=\"social col-md-2 text-center\">\n",
      "     <a class=\"social-btn\" href=\"https://www.facebook.com/pycontw\" target=\"_blank\">\n",
      "      <i class=\"fa fa-facebook fa-lg\">\n",
      "      </i>\n",
      "     </a>\n",
      "     <a class=\"social-btn\" href=\"https://twitter.com/pycontw\" target=\"_blank\">\n",
      "      <i class=\"fa fa-twitter fa-lg\">\n",
      "      </i>\n",
      "     </a>\n",
      "    </div>\n",
      "   </div>\n",
      "  </footer>\n",
      "  <script src=\"/2016/static/CACHE/js/8576dbc32f81.js\" type=\"text/javascript\">\n",
      "  </script>\n",
      " </body>\n",
      "</html>\n"
     ]
    }
   ],
   "source": [
    "print soup.prettify()"
   ]
  },
  {
   "cell_type": "code",
   "execution_count": 56,
   "metadata": {
    "collapsed": false
   },
   "outputs": [
    {
     "name": "stdout",
     "output_type": "stream",
     "text": [
      "/2016/\n",
      "https://www.facebook.com/pycontw\n",
      "https://twitter.com/pycontw\n",
      "https://docs.google.com/forms/d/1JoHhAj6NeXg98OFAAvAHQ6Dcrh9Dxp2PttHKwxNbiFs/viewform\n",
      "http://www.meetup.com/Taipei-py/\n",
      "http://www.meetup.com/pythonhug/\n",
      "http://www.meetup.com/PyLadiesTW/\n",
      "http://www.meetup.com/Tainan-py-Python-Tainan-User-Group/\n",
      "http://www.meetup.com/Kaohsiung-Python-Meetup\n",
      "http://www.meetup.com/Taichung-Python-Meetup/\n",
      "http://djangogirls.org/taipei\n",
      "http://www.meetup.com/Hualien-Py/\n",
      "mailto:sponsorship@pycon.tw\n",
      "https://tw.pycon.org/2015apac/en/sponsors/\n",
      "http://aktsk.com.tw/\n",
      "http://ocf.tw\n",
      "http://www.wolftea.com\n",
      "http://www.gliacloud.com\n",
      "https://www.facebook.com/pycontw\n",
      "https://twitter.com/pycontw\n"
     ]
    }
   ],
   "source": [
    "for link in soup.find_all('a'):\n",
    "    print(link.get('href'))\n",
    "    #"
   ]
  },
  {
   "cell_type": "code",
   "execution_count": 57,
   "metadata": {
    "collapsed": false
   },
   "outputs": [
    {
     "name": "stdout",
     "output_type": "stream",
     "text": [
      "https://www.facebook.com/pycontw\n",
      "https://twitter.com/pycontw\n",
      "https://docs.google.com/forms/d/1JoHhAj6NeXg98OFAAvAHQ6Dcrh9Dxp2PttHKwxNbiFs/viewform\n",
      "http://www.meetup.com/Taipei-py/\n",
      "http://www.meetup.com/pythonhug/\n",
      "http://www.meetup.com/PyLadiesTW/\n",
      "http://www.meetup.com/Tainan-py-Python-Tainan-User-Group/\n",
      "http://www.meetup.com/Kaohsiung-Python-Meetup\n",
      "http://www.meetup.com/Taichung-Python-Meetup/\n",
      "http://djangogirls.org/taipei\n",
      "http://www.meetup.com/Hualien-Py/\n",
      "https://tw.pycon.org/2015apac/en/sponsors/\n",
      "http://aktsk.com.tw/\n",
      "http://ocf.tw\n",
      "http://www.wolftea.com\n",
      "http://www.gliacloud.com\n",
      "https://www.facebook.com/pycontw\n",
      "https://twitter.com/pycontw\n"
     ]
    }
   ],
   "source": [
    "for link in soup.find_all('a', target=\"_blank\"):\n",
    "    print(link.get('href'))"
   ]
  },
  {
   "cell_type": "code",
   "execution_count": null,
   "metadata": {
    "collapsed": true
   },
   "outputs": [],
   "source": []
  }
 ],
 "metadata": {
  "kernelspec": {
   "display_name": "Python 2",
   "language": "python",
   "name": "python2"
  },
  "language_info": {
   "codemirror_mode": {
    "name": "ipython",
    "version": 2
   },
   "file_extension": ".py",
   "mimetype": "text/x-python",
   "name": "python",
   "nbconvert_exporter": "python",
   "pygments_lexer": "ipython2",
   "version": "2.7.10"
  }
 },
 "nbformat": 4,
 "nbformat_minor": 0
}
